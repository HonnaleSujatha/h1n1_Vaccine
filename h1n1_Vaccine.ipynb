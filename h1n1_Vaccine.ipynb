{
 "cells": [
  {
   "cell_type": "markdown",
   "id": "41078b59-9a33-42cc-ae2b-88fef0826948",
   "metadata": {},
   "source": [
    "# Flu Shot Learning: Predict H1N1 Flu Vaccine"
   ]
  },
  {
   "cell_type": "markdown",
   "id": "265357af-383f-44e6-971f-c4b766305202",
   "metadata": {},
   "source": [
    "# Problem description\n",
    "Your goal is to predict how likely individuals are to receive their H1N1 and seasonal flu vaccines. Specifically, you'll be predicting probability for h1n1_vaccine\n",
    "\n",
    "Target Variable: h1n1_vaccine - Whether respondent received H1N1 flu vaccine."
   ]
  },
  {
   "cell_type": "markdown",
   "id": "3df1c978-2e95-430b-8bf9-2c342a64da00",
   "metadata": {},
   "source": [
    "# Features "
   ]
  },
  {
   "cell_type": "markdown",
   "id": "68840982-841c-42ec-b803-cd4b86ba0a00",
   "metadata": {},
   "source": [
    "#\n",
    "For all binary variables: 0 = No; 1 = Yes.\n",
    "\n",
    "h1n1_concern - Level of concern about the H1N1 flu.\n",
    "\n",
    "0 = Not at all concerned; 1 = Not very concerned; 2 = Somewhat concerned; 3 = Very concerned.\n",
    "h1n1_knowledge - Level of knowledge about H1N1 flu.\n",
    "\n",
    "0 = No knowledge; 1 = A little knowledge; 2 = A lot of knowledge.\n",
    "behavioral_antiviral_meds - Has taken antiviral medications. (binary)\n",
    "\n",
    "behavioral_avoidance - Has avoided close contact with others with flu-like symptoms. (binary)\n",
    "\n",
    "behavioral_face_mask - Has bought a face mask. (binary)\n",
    "\n",
    "behavioral_wash_hands - Has frequently washed hands or used hand sanitizer. (binary)\n",
    "\n",
    "behavioral_large_gatherings - Has reduced time at large gatherings. (binary)\n",
    "\n",
    "behavioral_outside_home - Has reduced contact with people outside of own household. (binary)\n",
    "\n",
    "behavioral_touch_face - Has avoided touching eyes, nose, or mouth. (binary)\n",
    "\n",
    "doctor_recc_h1n1 - H1N1 flu vaccine was recommended by doctor. (binary)\n",
    "\n",
    "doctor_recc_seasonal - Seasonal flu vaccine was recommended by doctor. (binary)\n",
    "\n",
    "chronic_med_condition - Has any of the following chronic medical conditions: asthma or an other lung condition, diabetes, a heart condition, a kidney condition, sickle cell anemia or other anemia, a neurological or neuromuscular condition, a liver condition, or a weakened immune system caused by a chronic illness or by medicines taken for a chronic illness. (binary)\n",
    "\n",
    "child_under_6_months - Has regular close contact with a child under the age of six months. (binary)\n",
    "\n",
    "health_insurance - Has health insurance. (binary)\n",
    "\n",
    "health_worker - Is a healthcare worker. (binary)\n",
    "\n",
    "opinion_h1n1_vacc_effective - Respondent's opinion about H1N1 vaccine effectiveness.\n",
    "Not at all effective; Not very effective; Don't know; Somewhat effective; Very effective\n",
    "\n",
    "opinion_h1n1_risk - Respondent's opinion about risk of getting sick with H1N1 flu without vaccine.\n",
    "Very Low; Somewhat low; Don't know; Somewhat high; Very high\n",
    "\n",
    "opinion_h1n1_sick_from_vacc - Respondent's worry of getting sick from taking H1N1 vaccine.\n",
    "Not at all worried; Not very worried; Don't know; Somewhat worried; Very worried\n",
    "\n",
    "opinion_seas_vacc_effective - Respondent's opinion about seasonal flu vaccine effectiveness.\n",
    "Not at all effective; Not very effective; Don't know; Somewhat effective; Very effective\n",
    "\n",
    "opinion_seas_risk - Respondent's opinion about risk of getting sick with seasonal flu without vaccine.\n",
    "Very Low; Somewhat low; Don't know; Somewhat high; Very high\n",
    "\n",
    "opinion_seas_sick_from_vacc - Respondent's worry of getting sick from taking seasonal flu vaccine.\n",
    "Not at all worried; Not very worried; Don't know; Somewhat worried; Very worried\n",
    "\n",
    "agegrp - Age group of respondent.\n",
    "6 Months - 9 Years; 10 - 17 Years; 18 - 34 Years; 35 - 44 Years; 45 - 54 Years; 55 - 64 Years; 65+ Years\n",
    "\n",
    "education_comp - Self-reported education level.\n",
    "\n",
    "1 = < 12 Years; 2 = 12 Years; 3 = Some College; 4 = College Graduate\n",
    "raceeth4_i - Race of respondent.\n",
    "\n",
    "1 = Hispanic; 2 = Non-Hispanic, Black Only; 3 = Non-Hispanic, White Only; 4 = Non-Hispanic, Other or Multiple Races\n",
    "sex_i - Sex of respondent.\n",
    "\n",
    "1 = Male; 2 = Female 2\n",
    "inc_pov - Household annual income of respondent with respect to 2008 Census poverty thresholds.\n",
    "\n",
    "1 = > $75,000; 2 = <= $75,000; 3 = Below Poverty; 4 = Unknown\n",
    "marital - Marital status of respondent.\n",
    "\n",
    "1 = Married; 2 = Not Married\n",
    "rent_own_r - Housing situation of respondent.\n",
    "\n",
    "1 = Home is Owned; 2 = Home is Rented or Other Arrangement\n",
    "employment_status - Employment status of respondent.\n",
    "\n",
    "Employed; Not in Labor Force; Unemployed\n",
    "census_region - True census region of residence (1=northeast; 2=midwest; 3=south; 4=west)\n",
    "\n",
    "census_msa - Respondent's residence within metropolitan statistical areas (MSA) as defined by the U.S. Census.\n",
    "\n",
    "n_adult_r - Number of other adults in household.\n",
    "\n",
    "household_children - Number of children in household.\n",
    "\n",
    "n_people_r - Number of adults in the household.\n",
    "\n",
    "employment_industry - Type of industry respondent is employed in.\n",
    "\n",
    "employment_occupation - Type of occupation of respondent. Values are represented as short random character strings.\n",
    "\n",
    "hhs_region - HHS surveillance region number\n",
    "\n",
    "Region 1: CT,ME,MA,NH,RI,VT\n",
    "Region 2: NJ,NY\n",
    "Region 3: DE,DC,MD,PA,VA,WV\n",
    "Region 4: AL,FL,GA,KY,MS,NC,SC,TN\n",
    "Region 5: IL,IN,MI,MN,OH,WI\n",
    "Region 6: AR,LA,NM,OK,TX\n",
    "Region 7: IA,KS,MO,NE\n",
    "Region 8: CO,MT,ND,SD,UT,WY\n",
    "Region 9: AZ,CA,HI,NV\n",
    "Region 10: AK,ID,OR,WA\n",
    "state - State of residence\n",
    "\n"
   ]
  },
  {
   "cell_type": "code",
   "execution_count": 185,
   "id": "2eb2285c-862b-48dd-bd49-afd233fba9e4",
   "metadata": {},
   "outputs": [],
   "source": [
    "import io\n",
    "import pandas as pd\n",
    "import numpy as np\n",
    "import seaborn as sns\n",
    "import matplotlib.pyplot as plt\n",
    "%matplotlib inline"
   ]
  },
  {
   "cell_type": "code",
   "execution_count": 2,
   "id": "32ef6059-a425-4ed2-8b6b-ffc4e3e40c96",
   "metadata": {},
   "outputs": [],
   "source": [
    "vaccinetrain=pd.read_csv(r\"C:\\Users\\SUJATHA\\Downloads\\training_set_features.csv\")"
   ]
  },
  {
   "cell_type": "code",
   "execution_count": 3,
   "id": "8f35ca04-0a1f-41c5-9037-bcdc079797b7",
   "metadata": {},
   "outputs": [],
   "source": [
    "vaccinetest=pd.read_csv(r\"C:\\Users\\SUJATHA\\Downloads\\test_set_features.csv\")"
   ]
  },
  {
   "cell_type": "code",
   "execution_count": 425,
   "id": "977c0798-31b9-4714-9441-6bcd429fff5b",
   "metadata": {},
   "outputs": [],
   "source": [
    "vaccinelabels=pd.read_csv(r\"C:\\Users\\SUJATHA\\Downloads\\training_set_labels.csv\")\n",
    "# 2 dependent variables seasonal_vaccine and h1n1_vaccine\n",
    "# seasonal_vaccine is Balanced data\n",
    "# h1n1_vaccine is Imbalanced data"
   ]
  },
  {
   "cell_type": "code",
   "execution_count": 5,
   "id": "6add473b-0ba6-4964-8f6d-f5014d301c87",
   "metadata": {},
   "outputs": [
    {
     "data": {
      "text/html": [
       "<div>\n",
       "<style scoped>\n",
       "    .dataframe tbody tr th:only-of-type {\n",
       "        vertical-align: middle;\n",
       "    }\n",
       "\n",
       "    .dataframe tbody tr th {\n",
       "        vertical-align: top;\n",
       "    }\n",
       "\n",
       "    .dataframe thead th {\n",
       "        text-align: right;\n",
       "    }\n",
       "</style>\n",
       "<table border=\"1\" class=\"dataframe\">\n",
       "  <thead>\n",
       "    <tr style=\"text-align: right;\">\n",
       "      <th></th>\n",
       "      <th>respondent_id</th>\n",
       "      <th>h1n1_concern</th>\n",
       "      <th>h1n1_knowledge</th>\n",
       "      <th>behavioral_antiviral_meds</th>\n",
       "      <th>behavioral_avoidance</th>\n",
       "      <th>behavioral_face_mask</th>\n",
       "      <th>behavioral_wash_hands</th>\n",
       "      <th>behavioral_large_gatherings</th>\n",
       "      <th>behavioral_outside_home</th>\n",
       "      <th>behavioral_touch_face</th>\n",
       "      <th>...</th>\n",
       "      <th>income_poverty</th>\n",
       "      <th>marital_status</th>\n",
       "      <th>rent_or_own</th>\n",
       "      <th>employment_status</th>\n",
       "      <th>hhs_geo_region</th>\n",
       "      <th>census_msa</th>\n",
       "      <th>household_adults</th>\n",
       "      <th>household_children</th>\n",
       "      <th>employment_industry</th>\n",
       "      <th>employment_occupation</th>\n",
       "    </tr>\n",
       "  </thead>\n",
       "  <tbody>\n",
       "    <tr>\n",
       "      <th>0</th>\n",
       "      <td>0</td>\n",
       "      <td>1.0</td>\n",
       "      <td>0.0</td>\n",
       "      <td>0.0</td>\n",
       "      <td>0.0</td>\n",
       "      <td>0.0</td>\n",
       "      <td>0.0</td>\n",
       "      <td>0.0</td>\n",
       "      <td>1.0</td>\n",
       "      <td>1.0</td>\n",
       "      <td>...</td>\n",
       "      <td>Below Poverty</td>\n",
       "      <td>Not Married</td>\n",
       "      <td>Own</td>\n",
       "      <td>Not in Labor Force</td>\n",
       "      <td>oxchjgsf</td>\n",
       "      <td>Non-MSA</td>\n",
       "      <td>0.0</td>\n",
       "      <td>0.0</td>\n",
       "      <td>NaN</td>\n",
       "      <td>NaN</td>\n",
       "    </tr>\n",
       "    <tr>\n",
       "      <th>1</th>\n",
       "      <td>1</td>\n",
       "      <td>3.0</td>\n",
       "      <td>2.0</td>\n",
       "      <td>0.0</td>\n",
       "      <td>1.0</td>\n",
       "      <td>0.0</td>\n",
       "      <td>1.0</td>\n",
       "      <td>0.0</td>\n",
       "      <td>1.0</td>\n",
       "      <td>1.0</td>\n",
       "      <td>...</td>\n",
       "      <td>Below Poverty</td>\n",
       "      <td>Not Married</td>\n",
       "      <td>Rent</td>\n",
       "      <td>Employed</td>\n",
       "      <td>bhuqouqj</td>\n",
       "      <td>MSA, Not Principle  City</td>\n",
       "      <td>0.0</td>\n",
       "      <td>0.0</td>\n",
       "      <td>pxcmvdjn</td>\n",
       "      <td>xgwztkwe</td>\n",
       "    </tr>\n",
       "    <tr>\n",
       "      <th>2</th>\n",
       "      <td>2</td>\n",
       "      <td>1.0</td>\n",
       "      <td>1.0</td>\n",
       "      <td>0.0</td>\n",
       "      <td>1.0</td>\n",
       "      <td>0.0</td>\n",
       "      <td>0.0</td>\n",
       "      <td>0.0</td>\n",
       "      <td>0.0</td>\n",
       "      <td>0.0</td>\n",
       "      <td>...</td>\n",
       "      <td>&lt;= $75,000, Above Poverty</td>\n",
       "      <td>Not Married</td>\n",
       "      <td>Own</td>\n",
       "      <td>Employed</td>\n",
       "      <td>qufhixun</td>\n",
       "      <td>MSA, Not Principle  City</td>\n",
       "      <td>2.0</td>\n",
       "      <td>0.0</td>\n",
       "      <td>rucpziij</td>\n",
       "      <td>xtkaffoo</td>\n",
       "    </tr>\n",
       "    <tr>\n",
       "      <th>3</th>\n",
       "      <td>3</td>\n",
       "      <td>1.0</td>\n",
       "      <td>1.0</td>\n",
       "      <td>0.0</td>\n",
       "      <td>1.0</td>\n",
       "      <td>0.0</td>\n",
       "      <td>1.0</td>\n",
       "      <td>1.0</td>\n",
       "      <td>0.0</td>\n",
       "      <td>0.0</td>\n",
       "      <td>...</td>\n",
       "      <td>Below Poverty</td>\n",
       "      <td>Not Married</td>\n",
       "      <td>Rent</td>\n",
       "      <td>Not in Labor Force</td>\n",
       "      <td>lrircsnp</td>\n",
       "      <td>MSA, Principle City</td>\n",
       "      <td>0.0</td>\n",
       "      <td>0.0</td>\n",
       "      <td>NaN</td>\n",
       "      <td>NaN</td>\n",
       "    </tr>\n",
       "    <tr>\n",
       "      <th>4</th>\n",
       "      <td>4</td>\n",
       "      <td>2.0</td>\n",
       "      <td>1.0</td>\n",
       "      <td>0.0</td>\n",
       "      <td>1.0</td>\n",
       "      <td>0.0</td>\n",
       "      <td>1.0</td>\n",
       "      <td>1.0</td>\n",
       "      <td>0.0</td>\n",
       "      <td>1.0</td>\n",
       "      <td>...</td>\n",
       "      <td>&lt;= $75,000, Above Poverty</td>\n",
       "      <td>Married</td>\n",
       "      <td>Own</td>\n",
       "      <td>Employed</td>\n",
       "      <td>qufhixun</td>\n",
       "      <td>MSA, Not Principle  City</td>\n",
       "      <td>1.0</td>\n",
       "      <td>0.0</td>\n",
       "      <td>wxleyezf</td>\n",
       "      <td>emcorrxb</td>\n",
       "    </tr>\n",
       "  </tbody>\n",
       "</table>\n",
       "<p>5 rows × 36 columns</p>\n",
       "</div>"
      ],
      "text/plain": [
       "   respondent_id  h1n1_concern  h1n1_knowledge  behavioral_antiviral_meds  \\\n",
       "0              0           1.0             0.0                        0.0   \n",
       "1              1           3.0             2.0                        0.0   \n",
       "2              2           1.0             1.0                        0.0   \n",
       "3              3           1.0             1.0                        0.0   \n",
       "4              4           2.0             1.0                        0.0   \n",
       "\n",
       "   behavioral_avoidance  behavioral_face_mask  behavioral_wash_hands  \\\n",
       "0                   0.0                   0.0                    0.0   \n",
       "1                   1.0                   0.0                    1.0   \n",
       "2                   1.0                   0.0                    0.0   \n",
       "3                   1.0                   0.0                    1.0   \n",
       "4                   1.0                   0.0                    1.0   \n",
       "\n",
       "   behavioral_large_gatherings  behavioral_outside_home  \\\n",
       "0                          0.0                      1.0   \n",
       "1                          0.0                      1.0   \n",
       "2                          0.0                      0.0   \n",
       "3                          1.0                      0.0   \n",
       "4                          1.0                      0.0   \n",
       "\n",
       "   behavioral_touch_face  ...             income_poverty  marital_status  \\\n",
       "0                    1.0  ...              Below Poverty     Not Married   \n",
       "1                    1.0  ...              Below Poverty     Not Married   \n",
       "2                    0.0  ...  <= $75,000, Above Poverty     Not Married   \n",
       "3                    0.0  ...              Below Poverty     Not Married   \n",
       "4                    1.0  ...  <= $75,000, Above Poverty         Married   \n",
       "\n",
       "   rent_or_own   employment_status  hhs_geo_region                census_msa  \\\n",
       "0          Own  Not in Labor Force        oxchjgsf                   Non-MSA   \n",
       "1         Rent            Employed        bhuqouqj  MSA, Not Principle  City   \n",
       "2          Own            Employed        qufhixun  MSA, Not Principle  City   \n",
       "3         Rent  Not in Labor Force        lrircsnp       MSA, Principle City   \n",
       "4          Own            Employed        qufhixun  MSA, Not Principle  City   \n",
       "\n",
       "   household_adults  household_children  employment_industry  \\\n",
       "0               0.0                 0.0                  NaN   \n",
       "1               0.0                 0.0             pxcmvdjn   \n",
       "2               2.0                 0.0             rucpziij   \n",
       "3               0.0                 0.0                  NaN   \n",
       "4               1.0                 0.0             wxleyezf   \n",
       "\n",
       "   employment_occupation  \n",
       "0                    NaN  \n",
       "1               xgwztkwe  \n",
       "2               xtkaffoo  \n",
       "3                    NaN  \n",
       "4               emcorrxb  \n",
       "\n",
       "[5 rows x 36 columns]"
      ]
     },
     "execution_count": 5,
     "metadata": {},
     "output_type": "execute_result"
    }
   ],
   "source": [
    "vaccinetrain.head()"
   ]
  },
  {
   "cell_type": "code",
   "execution_count": 6,
   "id": "7e5f279b-f35e-4000-b461-b6ebf30fe360",
   "metadata": {},
   "outputs": [
    {
     "data": {
      "text/html": [
       "<div>\n",
       "<style scoped>\n",
       "    .dataframe tbody tr th:only-of-type {\n",
       "        vertical-align: middle;\n",
       "    }\n",
       "\n",
       "    .dataframe tbody tr th {\n",
       "        vertical-align: top;\n",
       "    }\n",
       "\n",
       "    .dataframe thead th {\n",
       "        text-align: right;\n",
       "    }\n",
       "</style>\n",
       "<table border=\"1\" class=\"dataframe\">\n",
       "  <thead>\n",
       "    <tr style=\"text-align: right;\">\n",
       "      <th></th>\n",
       "      <th>respondent_id</th>\n",
       "      <th>h1n1_concern</th>\n",
       "      <th>h1n1_knowledge</th>\n",
       "      <th>behavioral_antiviral_meds</th>\n",
       "      <th>behavioral_avoidance</th>\n",
       "      <th>behavioral_face_mask</th>\n",
       "      <th>behavioral_wash_hands</th>\n",
       "      <th>behavioral_large_gatherings</th>\n",
       "      <th>behavioral_outside_home</th>\n",
       "      <th>behavioral_touch_face</th>\n",
       "      <th>...</th>\n",
       "      <th>income_poverty</th>\n",
       "      <th>marital_status</th>\n",
       "      <th>rent_or_own</th>\n",
       "      <th>employment_status</th>\n",
       "      <th>hhs_geo_region</th>\n",
       "      <th>census_msa</th>\n",
       "      <th>household_adults</th>\n",
       "      <th>household_children</th>\n",
       "      <th>employment_industry</th>\n",
       "      <th>employment_occupation</th>\n",
       "    </tr>\n",
       "  </thead>\n",
       "  <tbody>\n",
       "    <tr>\n",
       "      <th>26703</th>\n",
       "      <td>53410</td>\n",
       "      <td>1.0</td>\n",
       "      <td>1.0</td>\n",
       "      <td>0.0</td>\n",
       "      <td>1.0</td>\n",
       "      <td>0.0</td>\n",
       "      <td>1.0</td>\n",
       "      <td>0.0</td>\n",
       "      <td>0.0</td>\n",
       "      <td>1.0</td>\n",
       "      <td>...</td>\n",
       "      <td>NaN</td>\n",
       "      <td>NaN</td>\n",
       "      <td>NaN</td>\n",
       "      <td>NaN</td>\n",
       "      <td>dqpwygqj</td>\n",
       "      <td>MSA, Principle City</td>\n",
       "      <td>1.0</td>\n",
       "      <td>1.0</td>\n",
       "      <td>NaN</td>\n",
       "      <td>NaN</td>\n",
       "    </tr>\n",
       "    <tr>\n",
       "      <th>26704</th>\n",
       "      <td>53411</td>\n",
       "      <td>3.0</td>\n",
       "      <td>1.0</td>\n",
       "      <td>0.0</td>\n",
       "      <td>1.0</td>\n",
       "      <td>0.0</td>\n",
       "      <td>1.0</td>\n",
       "      <td>1.0</td>\n",
       "      <td>1.0</td>\n",
       "      <td>1.0</td>\n",
       "      <td>...</td>\n",
       "      <td>Below Poverty</td>\n",
       "      <td>Married</td>\n",
       "      <td>Rent</td>\n",
       "      <td>Employed</td>\n",
       "      <td>qufhixun</td>\n",
       "      <td>Non-MSA</td>\n",
       "      <td>1.0</td>\n",
       "      <td>3.0</td>\n",
       "      <td>fcxhlnwr</td>\n",
       "      <td>vlluhbov</td>\n",
       "    </tr>\n",
       "    <tr>\n",
       "      <th>26705</th>\n",
       "      <td>53412</td>\n",
       "      <td>0.0</td>\n",
       "      <td>1.0</td>\n",
       "      <td>0.0</td>\n",
       "      <td>0.0</td>\n",
       "      <td>0.0</td>\n",
       "      <td>0.0</td>\n",
       "      <td>0.0</td>\n",
       "      <td>0.0</td>\n",
       "      <td>0.0</td>\n",
       "      <td>...</td>\n",
       "      <td>Below Poverty</td>\n",
       "      <td>Not Married</td>\n",
       "      <td>Rent</td>\n",
       "      <td>Not in Labor Force</td>\n",
       "      <td>qufhixun</td>\n",
       "      <td>MSA, Not Principle  City</td>\n",
       "      <td>1.0</td>\n",
       "      <td>0.0</td>\n",
       "      <td>NaN</td>\n",
       "      <td>NaN</td>\n",
       "    </tr>\n",
       "    <tr>\n",
       "      <th>26706</th>\n",
       "      <td>53413</td>\n",
       "      <td>3.0</td>\n",
       "      <td>1.0</td>\n",
       "      <td>0.0</td>\n",
       "      <td>1.0</td>\n",
       "      <td>0.0</td>\n",
       "      <td>1.0</td>\n",
       "      <td>0.0</td>\n",
       "      <td>1.0</td>\n",
       "      <td>0.0</td>\n",
       "      <td>...</td>\n",
       "      <td>&lt;= $75,000, Above Poverty</td>\n",
       "      <td>Married</td>\n",
       "      <td>Own</td>\n",
       "      <td>Not in Labor Force</td>\n",
       "      <td>bhuqouqj</td>\n",
       "      <td>MSA, Not Principle  City</td>\n",
       "      <td>1.0</td>\n",
       "      <td>0.0</td>\n",
       "      <td>NaN</td>\n",
       "      <td>NaN</td>\n",
       "    </tr>\n",
       "    <tr>\n",
       "      <th>26707</th>\n",
       "      <td>53414</td>\n",
       "      <td>2.0</td>\n",
       "      <td>1.0</td>\n",
       "      <td>0.0</td>\n",
       "      <td>0.0</td>\n",
       "      <td>0.0</td>\n",
       "      <td>1.0</td>\n",
       "      <td>0.0</td>\n",
       "      <td>0.0</td>\n",
       "      <td>1.0</td>\n",
       "      <td>...</td>\n",
       "      <td>NaN</td>\n",
       "      <td>Not Married</td>\n",
       "      <td>Rent</td>\n",
       "      <td>Employed</td>\n",
       "      <td>lrircsnp</td>\n",
       "      <td>MSA, Principle City</td>\n",
       "      <td>0.0</td>\n",
       "      <td>0.0</td>\n",
       "      <td>NaN</td>\n",
       "      <td>xtkaffoo</td>\n",
       "    </tr>\n",
       "  </tbody>\n",
       "</table>\n",
       "<p>5 rows × 36 columns</p>\n",
       "</div>"
      ],
      "text/plain": [
       "       respondent_id  h1n1_concern  h1n1_knowledge  behavioral_antiviral_meds  \\\n",
       "26703          53410           1.0             1.0                        0.0   \n",
       "26704          53411           3.0             1.0                        0.0   \n",
       "26705          53412           0.0             1.0                        0.0   \n",
       "26706          53413           3.0             1.0                        0.0   \n",
       "26707          53414           2.0             1.0                        0.0   \n",
       "\n",
       "       behavioral_avoidance  behavioral_face_mask  behavioral_wash_hands  \\\n",
       "26703                   1.0                   0.0                    1.0   \n",
       "26704                   1.0                   0.0                    1.0   \n",
       "26705                   0.0                   0.0                    0.0   \n",
       "26706                   1.0                   0.0                    1.0   \n",
       "26707                   0.0                   0.0                    1.0   \n",
       "\n",
       "       behavioral_large_gatherings  behavioral_outside_home  \\\n",
       "26703                          0.0                      0.0   \n",
       "26704                          1.0                      1.0   \n",
       "26705                          0.0                      0.0   \n",
       "26706                          0.0                      1.0   \n",
       "26707                          0.0                      0.0   \n",
       "\n",
       "       behavioral_touch_face  ...             income_poverty  marital_status  \\\n",
       "26703                    1.0  ...                        NaN             NaN   \n",
       "26704                    1.0  ...              Below Poverty         Married   \n",
       "26705                    0.0  ...              Below Poverty     Not Married   \n",
       "26706                    0.0  ...  <= $75,000, Above Poverty         Married   \n",
       "26707                    1.0  ...                        NaN     Not Married   \n",
       "\n",
       "       rent_or_own   employment_status  hhs_geo_region  \\\n",
       "26703          NaN                 NaN        dqpwygqj   \n",
       "26704         Rent            Employed        qufhixun   \n",
       "26705         Rent  Not in Labor Force        qufhixun   \n",
       "26706          Own  Not in Labor Force        bhuqouqj   \n",
       "26707         Rent            Employed        lrircsnp   \n",
       "\n",
       "                     census_msa  household_adults  household_children  \\\n",
       "26703       MSA, Principle City               1.0                 1.0   \n",
       "26704                   Non-MSA               1.0                 3.0   \n",
       "26705  MSA, Not Principle  City               1.0                 0.0   \n",
       "26706  MSA, Not Principle  City               1.0                 0.0   \n",
       "26707       MSA, Principle City               0.0                 0.0   \n",
       "\n",
       "       employment_industry  employment_occupation  \n",
       "26703                  NaN                    NaN  \n",
       "26704             fcxhlnwr               vlluhbov  \n",
       "26705                  NaN                    NaN  \n",
       "26706                  NaN                    NaN  \n",
       "26707                  NaN               xtkaffoo  \n",
       "\n",
       "[5 rows x 36 columns]"
      ]
     },
     "execution_count": 6,
     "metadata": {},
     "output_type": "execute_result"
    }
   ],
   "source": [
    "vaccinetest.tail()"
   ]
  },
  {
   "cell_type": "code",
   "execution_count": 7,
   "id": "90814151-40d1-43ba-ad2d-e60185144690",
   "metadata": {},
   "outputs": [
    {
     "name": "stdout",
     "output_type": "stream",
     "text": [
      "<class 'pandas.core.frame.DataFrame'>\n",
      "RangeIndex: 26707 entries, 0 to 26706\n",
      "Data columns (total 36 columns):\n",
      " #   Column                       Non-Null Count  Dtype  \n",
      "---  ------                       --------------  -----  \n",
      " 0   respondent_id                26707 non-null  int64  \n",
      " 1   h1n1_concern                 26615 non-null  float64\n",
      " 2   h1n1_knowledge               26591 non-null  float64\n",
      " 3   behavioral_antiviral_meds    26636 non-null  float64\n",
      " 4   behavioral_avoidance         26499 non-null  float64\n",
      " 5   behavioral_face_mask         26688 non-null  float64\n",
      " 6   behavioral_wash_hands        26665 non-null  float64\n",
      " 7   behavioral_large_gatherings  26620 non-null  float64\n",
      " 8   behavioral_outside_home      26625 non-null  float64\n",
      " 9   behavioral_touch_face        26579 non-null  float64\n",
      " 10  doctor_recc_h1n1             24547 non-null  float64\n",
      " 11  doctor_recc_seasonal         24547 non-null  float64\n",
      " 12  chronic_med_condition        25736 non-null  float64\n",
      " 13  child_under_6_months         25887 non-null  float64\n",
      " 14  health_worker                25903 non-null  float64\n",
      " 15  health_insurance             14433 non-null  float64\n",
      " 16  opinion_h1n1_vacc_effective  26316 non-null  float64\n",
      " 17  opinion_h1n1_risk            26319 non-null  float64\n",
      " 18  opinion_h1n1_sick_from_vacc  26312 non-null  float64\n",
      " 19  opinion_seas_vacc_effective  26245 non-null  float64\n",
      " 20  opinion_seas_risk            26193 non-null  float64\n",
      " 21  opinion_seas_sick_from_vacc  26170 non-null  float64\n",
      " 22  age_group                    26707 non-null  object \n",
      " 23  education                    25300 non-null  object \n",
      " 24  race                         26707 non-null  object \n",
      " 25  sex                          26707 non-null  object \n",
      " 26  income_poverty               22284 non-null  object \n",
      " 27  marital_status               25299 non-null  object \n",
      " 28  rent_or_own                  24665 non-null  object \n",
      " 29  employment_status            25244 non-null  object \n",
      " 30  hhs_geo_region               26707 non-null  object \n",
      " 31  census_msa                   26707 non-null  object \n",
      " 32  household_adults             26458 non-null  float64\n",
      " 33  household_children           26458 non-null  float64\n",
      " 34  employment_industry          13377 non-null  object \n",
      " 35  employment_occupation        13237 non-null  object \n",
      "dtypes: float64(23), int64(1), object(12)\n",
      "memory usage: 7.3+ MB\n"
     ]
    }
   ],
   "source": [
    "vaccinetrain.info()"
   ]
  },
  {
   "cell_type": "markdown",
   "id": "6c678d21-5335-464b-ac26-24640910dc18",
   "metadata": {},
   "source": [
    "# Checking Null Values in Train File"
   ]
  },
  {
   "cell_type": "markdown",
   "id": "e582eb16-269b-4009-8347-fea751ea9f44",
   "metadata": {},
   "source": [
    "vaccinetrain.isnull().sum().sort_values(ascending=False)"
   ]
  },
  {
   "cell_type": "markdown",
   "id": "8db9e81a-48de-496e-b848-50dc4d344685",
   "metadata": {},
   "source": [
    "# Checking Null values in test file\n"
   ]
  },
  {
   "cell_type": "code",
   "execution_count": 11,
   "id": "a241bbe1-19ba-4c9e-a315-b65e0324bb08",
   "metadata": {},
   "outputs": [
    {
     "data": {
      "text/plain": [
       "employment_occupation          13426\n",
       "employment_industry            13275\n",
       "health_insurance               12228\n",
       "income_poverty                  4497\n",
       "doctor_recc_h1n1                2160\n",
       "doctor_recc_seasonal            2160\n",
       "rent_or_own                     2036\n",
       "employment_status               1471\n",
       "marital_status                  1442\n",
       "education                       1407\n",
       "chronic_med_condition            932\n",
       "child_under_6_months             813\n",
       "health_worker                    789\n",
       "opinion_seas_sick_from_vacc      521\n",
       "opinion_seas_risk                499\n",
       "opinion_seas_vacc_effective      452\n",
       "opinion_h1n1_vacc_effective      398\n",
       "opinion_h1n1_risk                380\n",
       "opinion_h1n1_sick_from_vacc      375\n",
       "household_children               225\n",
       "household_adults                 225\n",
       "behavioral_avoidance             213\n",
       "behavioral_touch_face            128\n",
       "h1n1_knowledge                   122\n",
       "h1n1_concern                      85\n",
       "behavioral_outside_home           82\n",
       "behavioral_antiviral_meds         79\n",
       "behavioral_large_gatherings       72\n",
       "behavioral_wash_hands             40\n",
       "behavioral_face_mask              19\n",
       "hhs_geo_region                     0\n",
       "census_msa                         0\n",
       "sex                                0\n",
       "race                               0\n",
       "age_group                          0\n",
       "respondent_id                      0\n",
       "dtype: int64"
      ]
     },
     "execution_count": 11,
     "metadata": {},
     "output_type": "execute_result"
    }
   ],
   "source": [
    "vaccinetest.isnull().sum().sort_values(ascending=False)"
   ]
  },
  {
   "cell_type": "code",
   "execution_count": 12,
   "id": "08f7a7e6-ad12-4021-8d74-c53ef12abc7a",
   "metadata": {},
   "outputs": [],
   "source": [
    "combinedf=pd.concat([vaccinetrain,vaccinetest],axis=0)"
   ]
  },
  {
   "cell_type": "code",
   "execution_count": 13,
   "id": "c775d7ba-69b8-4e55-8aef-18da38b656a6",
   "metadata": {},
   "outputs": [
    {
     "data": {
      "text/plain": [
       "employment_occupation          26896\n",
       "employment_industry            26605\n",
       "health_insurance               24502\n",
       "income_poverty                  8920\n",
       "doctor_recc_h1n1                4320\n",
       "doctor_recc_seasonal            4320\n",
       "rent_or_own                     4078\n",
       "employment_status               2934\n",
       "marital_status                  2850\n",
       "education                       2814\n",
       "chronic_med_condition           1903\n",
       "child_under_6_months            1633\n",
       "health_worker                   1593\n",
       "opinion_seas_sick_from_vacc     1058\n",
       "opinion_seas_risk               1013\n",
       "opinion_seas_vacc_effective      914\n",
       "opinion_h1n1_vacc_effective      789\n",
       "opinion_h1n1_sick_from_vacc      770\n",
       "opinion_h1n1_risk                768\n",
       "household_children               474\n",
       "household_adults                 474\n",
       "behavioral_avoidance             421\n",
       "behavioral_touch_face            256\n",
       "h1n1_knowledge                   238\n",
       "h1n1_concern                     177\n",
       "behavioral_outside_home          164\n",
       "behavioral_large_gatherings      159\n",
       "behavioral_antiviral_meds        150\n",
       "behavioral_wash_hands             82\n",
       "behavioral_face_mask              38\n",
       "hhs_geo_region                     0\n",
       "census_msa                         0\n",
       "sex                                0\n",
       "race                               0\n",
       "age_group                          0\n",
       "respondent_id                      0\n",
       "dtype: int64"
      ]
     },
     "execution_count": 13,
     "metadata": {},
     "output_type": "execute_result"
    }
   ],
   "source": [
    "combinedf.isnull().sum().sort_values(ascending=False)"
   ]
  },
  {
   "cell_type": "code",
   "execution_count": 14,
   "id": "19189cea-8258-49bc-8b0c-5924a4543a39",
   "metadata": {},
   "outputs": [],
   "source": [
    "combinedf = combinedf.drop(['respondent_id'], axis=1) "
   ]
  },
  {
   "cell_type": "code",
   "execution_count": 15,
   "id": "cb389722-2ba3-4edb-a290-ad8fcd1ff7cf",
   "metadata": {},
   "outputs": [
    {
     "data": {
      "text/html": [
       "<div>\n",
       "<style scoped>\n",
       "    .dataframe tbody tr th:only-of-type {\n",
       "        vertical-align: middle;\n",
       "    }\n",
       "\n",
       "    .dataframe tbody tr th {\n",
       "        vertical-align: top;\n",
       "    }\n",
       "\n",
       "    .dataframe thead th {\n",
       "        text-align: right;\n",
       "    }\n",
       "</style>\n",
       "<table border=\"1\" class=\"dataframe\">\n",
       "  <thead>\n",
       "    <tr style=\"text-align: right;\">\n",
       "      <th></th>\n",
       "      <th>h1n1_concern</th>\n",
       "      <th>h1n1_knowledge</th>\n",
       "      <th>behavioral_antiviral_meds</th>\n",
       "      <th>behavioral_avoidance</th>\n",
       "      <th>behavioral_face_mask</th>\n",
       "      <th>behavioral_wash_hands</th>\n",
       "      <th>behavioral_large_gatherings</th>\n",
       "      <th>behavioral_outside_home</th>\n",
       "      <th>behavioral_touch_face</th>\n",
       "      <th>doctor_recc_h1n1</th>\n",
       "      <th>...</th>\n",
       "      <th>income_poverty</th>\n",
       "      <th>marital_status</th>\n",
       "      <th>rent_or_own</th>\n",
       "      <th>employment_status</th>\n",
       "      <th>hhs_geo_region</th>\n",
       "      <th>census_msa</th>\n",
       "      <th>household_adults</th>\n",
       "      <th>household_children</th>\n",
       "      <th>employment_industry</th>\n",
       "      <th>employment_occupation</th>\n",
       "    </tr>\n",
       "  </thead>\n",
       "  <tbody>\n",
       "    <tr>\n",
       "      <th>0</th>\n",
       "      <td>1.0</td>\n",
       "      <td>0.0</td>\n",
       "      <td>0.0</td>\n",
       "      <td>0.0</td>\n",
       "      <td>0.0</td>\n",
       "      <td>0.0</td>\n",
       "      <td>0.0</td>\n",
       "      <td>1.0</td>\n",
       "      <td>1.0</td>\n",
       "      <td>0.0</td>\n",
       "      <td>...</td>\n",
       "      <td>Below Poverty</td>\n",
       "      <td>Not Married</td>\n",
       "      <td>Own</td>\n",
       "      <td>Not in Labor Force</td>\n",
       "      <td>oxchjgsf</td>\n",
       "      <td>Non-MSA</td>\n",
       "      <td>0.0</td>\n",
       "      <td>0.0</td>\n",
       "      <td>NaN</td>\n",
       "      <td>NaN</td>\n",
       "    </tr>\n",
       "    <tr>\n",
       "      <th>1</th>\n",
       "      <td>3.0</td>\n",
       "      <td>2.0</td>\n",
       "      <td>0.0</td>\n",
       "      <td>1.0</td>\n",
       "      <td>0.0</td>\n",
       "      <td>1.0</td>\n",
       "      <td>0.0</td>\n",
       "      <td>1.0</td>\n",
       "      <td>1.0</td>\n",
       "      <td>0.0</td>\n",
       "      <td>...</td>\n",
       "      <td>Below Poverty</td>\n",
       "      <td>Not Married</td>\n",
       "      <td>Rent</td>\n",
       "      <td>Employed</td>\n",
       "      <td>bhuqouqj</td>\n",
       "      <td>MSA, Not Principle  City</td>\n",
       "      <td>0.0</td>\n",
       "      <td>0.0</td>\n",
       "      <td>pxcmvdjn</td>\n",
       "      <td>xgwztkwe</td>\n",
       "    </tr>\n",
       "    <tr>\n",
       "      <th>2</th>\n",
       "      <td>1.0</td>\n",
       "      <td>1.0</td>\n",
       "      <td>0.0</td>\n",
       "      <td>1.0</td>\n",
       "      <td>0.0</td>\n",
       "      <td>0.0</td>\n",
       "      <td>0.0</td>\n",
       "      <td>0.0</td>\n",
       "      <td>0.0</td>\n",
       "      <td>NaN</td>\n",
       "      <td>...</td>\n",
       "      <td>&lt;= $75,000, Above Poverty</td>\n",
       "      <td>Not Married</td>\n",
       "      <td>Own</td>\n",
       "      <td>Employed</td>\n",
       "      <td>qufhixun</td>\n",
       "      <td>MSA, Not Principle  City</td>\n",
       "      <td>2.0</td>\n",
       "      <td>0.0</td>\n",
       "      <td>rucpziij</td>\n",
       "      <td>xtkaffoo</td>\n",
       "    </tr>\n",
       "    <tr>\n",
       "      <th>3</th>\n",
       "      <td>1.0</td>\n",
       "      <td>1.0</td>\n",
       "      <td>0.0</td>\n",
       "      <td>1.0</td>\n",
       "      <td>0.0</td>\n",
       "      <td>1.0</td>\n",
       "      <td>1.0</td>\n",
       "      <td>0.0</td>\n",
       "      <td>0.0</td>\n",
       "      <td>0.0</td>\n",
       "      <td>...</td>\n",
       "      <td>Below Poverty</td>\n",
       "      <td>Not Married</td>\n",
       "      <td>Rent</td>\n",
       "      <td>Not in Labor Force</td>\n",
       "      <td>lrircsnp</td>\n",
       "      <td>MSA, Principle City</td>\n",
       "      <td>0.0</td>\n",
       "      <td>0.0</td>\n",
       "      <td>NaN</td>\n",
       "      <td>NaN</td>\n",
       "    </tr>\n",
       "    <tr>\n",
       "      <th>4</th>\n",
       "      <td>2.0</td>\n",
       "      <td>1.0</td>\n",
       "      <td>0.0</td>\n",
       "      <td>1.0</td>\n",
       "      <td>0.0</td>\n",
       "      <td>1.0</td>\n",
       "      <td>1.0</td>\n",
       "      <td>0.0</td>\n",
       "      <td>1.0</td>\n",
       "      <td>0.0</td>\n",
       "      <td>...</td>\n",
       "      <td>&lt;= $75,000, Above Poverty</td>\n",
       "      <td>Married</td>\n",
       "      <td>Own</td>\n",
       "      <td>Employed</td>\n",
       "      <td>qufhixun</td>\n",
       "      <td>MSA, Not Principle  City</td>\n",
       "      <td>1.0</td>\n",
       "      <td>0.0</td>\n",
       "      <td>wxleyezf</td>\n",
       "      <td>emcorrxb</td>\n",
       "    </tr>\n",
       "  </tbody>\n",
       "</table>\n",
       "<p>5 rows × 35 columns</p>\n",
       "</div>"
      ],
      "text/plain": [
       "   h1n1_concern  h1n1_knowledge  behavioral_antiviral_meds  \\\n",
       "0           1.0             0.0                        0.0   \n",
       "1           3.0             2.0                        0.0   \n",
       "2           1.0             1.0                        0.0   \n",
       "3           1.0             1.0                        0.0   \n",
       "4           2.0             1.0                        0.0   \n",
       "\n",
       "   behavioral_avoidance  behavioral_face_mask  behavioral_wash_hands  \\\n",
       "0                   0.0                   0.0                    0.0   \n",
       "1                   1.0                   0.0                    1.0   \n",
       "2                   1.0                   0.0                    0.0   \n",
       "3                   1.0                   0.0                    1.0   \n",
       "4                   1.0                   0.0                    1.0   \n",
       "\n",
       "   behavioral_large_gatherings  behavioral_outside_home  \\\n",
       "0                          0.0                      1.0   \n",
       "1                          0.0                      1.0   \n",
       "2                          0.0                      0.0   \n",
       "3                          1.0                      0.0   \n",
       "4                          1.0                      0.0   \n",
       "\n",
       "   behavioral_touch_face  doctor_recc_h1n1  ...             income_poverty  \\\n",
       "0                    1.0               0.0  ...              Below Poverty   \n",
       "1                    1.0               0.0  ...              Below Poverty   \n",
       "2                    0.0               NaN  ...  <= $75,000, Above Poverty   \n",
       "3                    0.0               0.0  ...              Below Poverty   \n",
       "4                    1.0               0.0  ...  <= $75,000, Above Poverty   \n",
       "\n",
       "   marital_status  rent_or_own   employment_status  hhs_geo_region  \\\n",
       "0     Not Married          Own  Not in Labor Force        oxchjgsf   \n",
       "1     Not Married         Rent            Employed        bhuqouqj   \n",
       "2     Not Married          Own            Employed        qufhixun   \n",
       "3     Not Married         Rent  Not in Labor Force        lrircsnp   \n",
       "4         Married          Own            Employed        qufhixun   \n",
       "\n",
       "                 census_msa  household_adults  household_children  \\\n",
       "0                   Non-MSA               0.0                 0.0   \n",
       "1  MSA, Not Principle  City               0.0                 0.0   \n",
       "2  MSA, Not Principle  City               2.0                 0.0   \n",
       "3       MSA, Principle City               0.0                 0.0   \n",
       "4  MSA, Not Principle  City               1.0                 0.0   \n",
       "\n",
       "   employment_industry  employment_occupation  \n",
       "0                  NaN                    NaN  \n",
       "1             pxcmvdjn               xgwztkwe  \n",
       "2             rucpziij               xtkaffoo  \n",
       "3                  NaN                    NaN  \n",
       "4             wxleyezf               emcorrxb  \n",
       "\n",
       "[5 rows x 35 columns]"
      ]
     },
     "execution_count": 15,
     "metadata": {},
     "output_type": "execute_result"
    }
   ],
   "source": [
    "combinedf.head()"
   ]
  },
  {
   "cell_type": "markdown",
   "id": "3b5f860f-28e6-4f6b-999b-1274baf5b2cc",
   "metadata": {},
   "source": [
    "# MICE Imputation"
   ]
  },
  {
   "cell_type": "code",
   "execution_count": 17,
   "id": "0c87726c-2e7a-4af1-9386-8e86a29844ed",
   "metadata": {},
   "outputs": [],
   "source": [
    "from sklearn.experimental import enable_iterative_imputer\n",
    "from sklearn.impute import IterativeImputer\n",
    "from sklearn.tree import DecisionTreeClassifier\n",
    "from sklearn.preprocessing import LabelEncoder\n"
   ]
  },
  {
   "cell_type": "code",
   "execution_count": 18,
   "id": "67684d8a-5452-4e9b-b6ef-c273c1b48d89",
   "metadata": {},
   "outputs": [],
   "source": [
    "original=combinedf"
   ]
  },
  {
   "cell_type": "code",
   "execution_count": 19,
   "id": "6e06874f-fb56-4ca9-bde3-8dc3fd2ce311",
   "metadata": {},
   "outputs": [],
   "source": [
    "mask=combinedf.isnull()"
   ]
  },
  {
   "cell_type": "code",
   "execution_count": 20,
   "id": "968bb126-cc9a-4bd0-8155-67d85f442fc8",
   "metadata": {},
   "outputs": [],
   "source": [
    "combinedf=combinedf.astype(str).apply(LabelEncoder().fit_transform)"
   ]
  },
  {
   "cell_type": "code",
   "execution_count": 21,
   "id": "779dd0ab-f914-44e7-abb4-d2a1d7b7a78e",
   "metadata": {},
   "outputs": [],
   "source": [
    "combinedf=combinedf.where(~mask,original)"
   ]
  },
  {
   "cell_type": "code",
   "execution_count": 22,
   "id": "8d85b6ac-e23e-4d69-a286-312b39f8947d",
   "metadata": {},
   "outputs": [],
   "source": [
    "imputer = IterativeImputer(estimator=DecisionTreeClassifier(), initial_strategy=\"most_frequent\", max_iter=20)\n"
   ]
  },
  {
   "cell_type": "code",
   "execution_count": 23,
   "id": "2e6e2c00-b37e-4253-a1cf-0fa0a4357233",
   "metadata": {},
   "outputs": [],
   "source": [
    "#imputer=IterativeImputer(estimator=DecisionTreeClassifier,initial_strategy=\"most_frequent\",max_iter=20)"
   ]
  },
  {
   "cell_type": "code",
   "execution_count": 24,
   "id": "f0b5ffa4-d562-4a01-a30a-3e5550ba63db",
   "metadata": {},
   "outputs": [
    {
     "name": "stderr",
     "output_type": "stream",
     "text": [
      "C:\\Users\\SUJATHA\\anaconda3\\Lib\\site-packages\\sklearn\\impute\\_iterative.py:825: ConvergenceWarning: [IterativeImputer] Early stopping criterion not reached.\n",
      "  warnings.warn(\n"
     ]
    }
   ],
   "source": [
    "combinedf_imp=imputer.fit_transform(combinedf)"
   ]
  },
  {
   "cell_type": "code",
   "execution_count": 25,
   "id": "f8f19a55-fcb5-4b87-9855-e3b68b71194b",
   "metadata": {},
   "outputs": [],
   "source": [
    "combinedf_imp=pd.DataFrame(combinedf_imp,columns=combinedf.columns)"
   ]
  },
  {
   "cell_type": "code",
   "execution_count": 26,
   "id": "8afc343e-9e9d-450c-8a00-29c545632cf1",
   "metadata": {},
   "outputs": [
    {
     "name": "stdout",
     "output_type": "stream",
     "text": [
      "<class 'pandas.core.frame.DataFrame'>\n",
      "RangeIndex: 53415 entries, 0 to 53414\n",
      "Data columns (total 35 columns):\n",
      " #   Column                       Non-Null Count  Dtype  \n",
      "---  ------                       --------------  -----  \n",
      " 0   h1n1_concern                 53415 non-null  float64\n",
      " 1   h1n1_knowledge               53415 non-null  float64\n",
      " 2   behavioral_antiviral_meds    53415 non-null  float64\n",
      " 3   behavioral_avoidance         53415 non-null  float64\n",
      " 4   behavioral_face_mask         53415 non-null  float64\n",
      " 5   behavioral_wash_hands        53415 non-null  float64\n",
      " 6   behavioral_large_gatherings  53415 non-null  float64\n",
      " 7   behavioral_outside_home      53415 non-null  float64\n",
      " 8   behavioral_touch_face        53415 non-null  float64\n",
      " 9   doctor_recc_h1n1             53415 non-null  float64\n",
      " 10  doctor_recc_seasonal         53415 non-null  float64\n",
      " 11  chronic_med_condition        53415 non-null  float64\n",
      " 12  child_under_6_months         53415 non-null  float64\n",
      " 13  health_worker                53415 non-null  float64\n",
      " 14  health_insurance             53415 non-null  float64\n",
      " 15  opinion_h1n1_vacc_effective  53415 non-null  float64\n",
      " 16  opinion_h1n1_risk            53415 non-null  float64\n",
      " 17  opinion_h1n1_sick_from_vacc  53415 non-null  float64\n",
      " 18  opinion_seas_vacc_effective  53415 non-null  float64\n",
      " 19  opinion_seas_risk            53415 non-null  float64\n",
      " 20  opinion_seas_sick_from_vacc  53415 non-null  float64\n",
      " 21  age_group                    53415 non-null  float64\n",
      " 22  education                    53415 non-null  float64\n",
      " 23  race                         53415 non-null  float64\n",
      " 24  sex                          53415 non-null  float64\n",
      " 25  income_poverty               53415 non-null  float64\n",
      " 26  marital_status               53415 non-null  float64\n",
      " 27  rent_or_own                  53415 non-null  float64\n",
      " 28  employment_status            53415 non-null  float64\n",
      " 29  hhs_geo_region               53415 non-null  float64\n",
      " 30  census_msa                   53415 non-null  float64\n",
      " 31  household_adults             53415 non-null  float64\n",
      " 32  household_children           53415 non-null  float64\n",
      " 33  employment_industry          53415 non-null  float64\n",
      " 34  employment_occupation        53415 non-null  float64\n",
      "dtypes: float64(35)\n",
      "memory usage: 14.3 MB\n"
     ]
    }
   ],
   "source": [
    "combinedf_imp.info()"
   ]
  },
  {
   "cell_type": "markdown",
   "id": "7374c37c-97ed-4805-8d59-ca4ed4109cec",
   "metadata": {},
   "source": [
    "# Splitting the data Back"
   ]
  },
  {
   "cell_type": "code",
   "execution_count": 60,
   "id": "5ac687d2-571a-456d-9188-e273def08100",
   "metadata": {},
   "outputs": [],
   "source": [
    "vaccinetrain_df=combinedf_imp.iloc[0:26707]\n",
    "vaccinetest_df=combinedf_imp.iloc[26708:53414]"
   ]
  },
  {
   "cell_type": "code",
   "execution_count": 64,
   "id": "27cde804-bcb8-4113-820c-c856adc5d900",
   "metadata": {},
   "outputs": [
    {
     "name": "stdout",
     "output_type": "stream",
     "text": [
      "(26707, 35)\n",
      "(26706, 35)\n"
     ]
    }
   ],
   "source": [
    "\n",
    "print(vaccinetrain_df.shape)\n",
    "\n",
    "print(vaccinetest_df.shape)"
   ]
  },
  {
   "cell_type": "code",
   "execution_count": 66,
   "id": "227783b7-a9d8-4d42-a059-01c9310a4efd",
   "metadata": {},
   "outputs": [
    {
     "data": {
      "text/html": [
       "<div>\n",
       "<style scoped>\n",
       "    .dataframe tbody tr th:only-of-type {\n",
       "        vertical-align: middle;\n",
       "    }\n",
       "\n",
       "    .dataframe tbody tr th {\n",
       "        vertical-align: top;\n",
       "    }\n",
       "\n",
       "    .dataframe thead th {\n",
       "        text-align: right;\n",
       "    }\n",
       "</style>\n",
       "<table border=\"1\" class=\"dataframe\">\n",
       "  <thead>\n",
       "    <tr style=\"text-align: right;\">\n",
       "      <th></th>\n",
       "      <th>h1n1_concern</th>\n",
       "      <th>h1n1_knowledge</th>\n",
       "      <th>behavioral_antiviral_meds</th>\n",
       "      <th>behavioral_avoidance</th>\n",
       "      <th>behavioral_face_mask</th>\n",
       "      <th>behavioral_wash_hands</th>\n",
       "      <th>behavioral_large_gatherings</th>\n",
       "      <th>behavioral_outside_home</th>\n",
       "      <th>behavioral_touch_face</th>\n",
       "      <th>doctor_recc_h1n1</th>\n",
       "      <th>...</th>\n",
       "      <th>income_poverty</th>\n",
       "      <th>marital_status</th>\n",
       "      <th>rent_or_own</th>\n",
       "      <th>employment_status</th>\n",
       "      <th>hhs_geo_region</th>\n",
       "      <th>census_msa</th>\n",
       "      <th>household_adults</th>\n",
       "      <th>household_children</th>\n",
       "      <th>employment_industry</th>\n",
       "      <th>employment_occupation</th>\n",
       "    </tr>\n",
       "  </thead>\n",
       "  <tbody>\n",
       "    <tr>\n",
       "      <th>0</th>\n",
       "      <td>1.0</td>\n",
       "      <td>0.0</td>\n",
       "      <td>0.0</td>\n",
       "      <td>0.0</td>\n",
       "      <td>0.0</td>\n",
       "      <td>0.0</td>\n",
       "      <td>0.0</td>\n",
       "      <td>1.0</td>\n",
       "      <td>1.0</td>\n",
       "      <td>0.0</td>\n",
       "      <td>...</td>\n",
       "      <td>2.0</td>\n",
       "      <td>1.0</td>\n",
       "      <td>0.0</td>\n",
       "      <td>1.0</td>\n",
       "      <td>8.0</td>\n",
       "      <td>2.0</td>\n",
       "      <td>0.0</td>\n",
       "      <td>0.0</td>\n",
       "      <td>13.0</td>\n",
       "      <td>20.0</td>\n",
       "    </tr>\n",
       "    <tr>\n",
       "      <th>1</th>\n",
       "      <td>3.0</td>\n",
       "      <td>2.0</td>\n",
       "      <td>0.0</td>\n",
       "      <td>1.0</td>\n",
       "      <td>0.0</td>\n",
       "      <td>1.0</td>\n",
       "      <td>0.0</td>\n",
       "      <td>1.0</td>\n",
       "      <td>1.0</td>\n",
       "      <td>0.0</td>\n",
       "      <td>...</td>\n",
       "      <td>2.0</td>\n",
       "      <td>1.0</td>\n",
       "      <td>1.0</td>\n",
       "      <td>0.0</td>\n",
       "      <td>1.0</td>\n",
       "      <td>0.0</td>\n",
       "      <td>0.0</td>\n",
       "      <td>0.0</td>\n",
       "      <td>13.0</td>\n",
       "      <td>20.0</td>\n",
       "    </tr>\n",
       "    <tr>\n",
       "      <th>2</th>\n",
       "      <td>1.0</td>\n",
       "      <td>1.0</td>\n",
       "      <td>0.0</td>\n",
       "      <td>1.0</td>\n",
       "      <td>0.0</td>\n",
       "      <td>0.0</td>\n",
       "      <td>0.0</td>\n",
       "      <td>0.0</td>\n",
       "      <td>0.0</td>\n",
       "      <td>0.0</td>\n",
       "      <td>...</td>\n",
       "      <td>0.0</td>\n",
       "      <td>1.0</td>\n",
       "      <td>0.0</td>\n",
       "      <td>0.0</td>\n",
       "      <td>9.0</td>\n",
       "      <td>0.0</td>\n",
       "      <td>2.0</td>\n",
       "      <td>0.0</td>\n",
       "      <td>15.0</td>\n",
       "      <td>22.0</td>\n",
       "    </tr>\n",
       "    <tr>\n",
       "      <th>3</th>\n",
       "      <td>1.0</td>\n",
       "      <td>1.0</td>\n",
       "      <td>0.0</td>\n",
       "      <td>1.0</td>\n",
       "      <td>0.0</td>\n",
       "      <td>1.0</td>\n",
       "      <td>1.0</td>\n",
       "      <td>0.0</td>\n",
       "      <td>0.0</td>\n",
       "      <td>0.0</td>\n",
       "      <td>...</td>\n",
       "      <td>2.0</td>\n",
       "      <td>1.0</td>\n",
       "      <td>1.0</td>\n",
       "      <td>1.0</td>\n",
       "      <td>5.0</td>\n",
       "      <td>1.0</td>\n",
       "      <td>0.0</td>\n",
       "      <td>0.0</td>\n",
       "      <td>19.0</td>\n",
       "      <td>5.0</td>\n",
       "    </tr>\n",
       "    <tr>\n",
       "      <th>4</th>\n",
       "      <td>2.0</td>\n",
       "      <td>1.0</td>\n",
       "      <td>0.0</td>\n",
       "      <td>1.0</td>\n",
       "      <td>0.0</td>\n",
       "      <td>1.0</td>\n",
       "      <td>1.0</td>\n",
       "      <td>0.0</td>\n",
       "      <td>1.0</td>\n",
       "      <td>0.0</td>\n",
       "      <td>...</td>\n",
       "      <td>0.0</td>\n",
       "      <td>0.0</td>\n",
       "      <td>0.0</td>\n",
       "      <td>0.0</td>\n",
       "      <td>9.0</td>\n",
       "      <td>0.0</td>\n",
       "      <td>1.0</td>\n",
       "      <td>0.0</td>\n",
       "      <td>19.0</td>\n",
       "      <td>5.0</td>\n",
       "    </tr>\n",
       "  </tbody>\n",
       "</table>\n",
       "<p>5 rows × 35 columns</p>\n",
       "</div>"
      ],
      "text/plain": [
       "   h1n1_concern  h1n1_knowledge  behavioral_antiviral_meds  \\\n",
       "0           1.0             0.0                        0.0   \n",
       "1           3.0             2.0                        0.0   \n",
       "2           1.0             1.0                        0.0   \n",
       "3           1.0             1.0                        0.0   \n",
       "4           2.0             1.0                        0.0   \n",
       "\n",
       "   behavioral_avoidance  behavioral_face_mask  behavioral_wash_hands  \\\n",
       "0                   0.0                   0.0                    0.0   \n",
       "1                   1.0                   0.0                    1.0   \n",
       "2                   1.0                   0.0                    0.0   \n",
       "3                   1.0                   0.0                    1.0   \n",
       "4                   1.0                   0.0                    1.0   \n",
       "\n",
       "   behavioral_large_gatherings  behavioral_outside_home  \\\n",
       "0                          0.0                      1.0   \n",
       "1                          0.0                      1.0   \n",
       "2                          0.0                      0.0   \n",
       "3                          1.0                      0.0   \n",
       "4                          1.0                      0.0   \n",
       "\n",
       "   behavioral_touch_face  doctor_recc_h1n1  ...  income_poverty  \\\n",
       "0                    1.0               0.0  ...             2.0   \n",
       "1                    1.0               0.0  ...             2.0   \n",
       "2                    0.0               0.0  ...             0.0   \n",
       "3                    0.0               0.0  ...             2.0   \n",
       "4                    1.0               0.0  ...             0.0   \n",
       "\n",
       "   marital_status  rent_or_own  employment_status  hhs_geo_region  census_msa  \\\n",
       "0             1.0          0.0                1.0             8.0         2.0   \n",
       "1             1.0          1.0                0.0             1.0         0.0   \n",
       "2             1.0          0.0                0.0             9.0         0.0   \n",
       "3             1.0          1.0                1.0             5.0         1.0   \n",
       "4             0.0          0.0                0.0             9.0         0.0   \n",
       "\n",
       "   household_adults  household_children  employment_industry  \\\n",
       "0               0.0                 0.0                 13.0   \n",
       "1               0.0                 0.0                 13.0   \n",
       "2               2.0                 0.0                 15.0   \n",
       "3               0.0                 0.0                 19.0   \n",
       "4               1.0                 0.0                 19.0   \n",
       "\n",
       "   employment_occupation  \n",
       "0                   20.0  \n",
       "1                   20.0  \n",
       "2                   22.0  \n",
       "3                    5.0  \n",
       "4                    5.0  \n",
       "\n",
       "[5 rows x 35 columns]"
      ]
     },
     "execution_count": 66,
     "metadata": {},
     "output_type": "execute_result"
    }
   ],
   "source": [
    "vaccinetrain_df.head()\n"
   ]
  },
  {
   "cell_type": "code",
   "execution_count": 68,
   "id": "6458c366-69ec-4c71-8fa5-6eeef0334e55",
   "metadata": {},
   "outputs": [
    {
     "data": {
      "text/html": [
       "<div>\n",
       "<style scoped>\n",
       "    .dataframe tbody tr th:only-of-type {\n",
       "        vertical-align: middle;\n",
       "    }\n",
       "\n",
       "    .dataframe tbody tr th {\n",
       "        vertical-align: top;\n",
       "    }\n",
       "\n",
       "    .dataframe thead th {\n",
       "        text-align: right;\n",
       "    }\n",
       "</style>\n",
       "<table border=\"1\" class=\"dataframe\">\n",
       "  <thead>\n",
       "    <tr style=\"text-align: right;\">\n",
       "      <th></th>\n",
       "      <th>h1n1_concern</th>\n",
       "      <th>h1n1_knowledge</th>\n",
       "      <th>behavioral_antiviral_meds</th>\n",
       "      <th>behavioral_avoidance</th>\n",
       "      <th>behavioral_face_mask</th>\n",
       "      <th>behavioral_wash_hands</th>\n",
       "      <th>behavioral_large_gatherings</th>\n",
       "      <th>behavioral_outside_home</th>\n",
       "      <th>behavioral_touch_face</th>\n",
       "      <th>doctor_recc_h1n1</th>\n",
       "      <th>...</th>\n",
       "      <th>income_poverty</th>\n",
       "      <th>marital_status</th>\n",
       "      <th>rent_or_own</th>\n",
       "      <th>employment_status</th>\n",
       "      <th>hhs_geo_region</th>\n",
       "      <th>census_msa</th>\n",
       "      <th>household_adults</th>\n",
       "      <th>household_children</th>\n",
       "      <th>employment_industry</th>\n",
       "      <th>employment_occupation</th>\n",
       "    </tr>\n",
       "  </thead>\n",
       "  <tbody>\n",
       "    <tr>\n",
       "      <th>26702</th>\n",
       "      <td>2.0</td>\n",
       "      <td>0.0</td>\n",
       "      <td>0.0</td>\n",
       "      <td>1.0</td>\n",
       "      <td>0.0</td>\n",
       "      <td>0.0</td>\n",
       "      <td>0.0</td>\n",
       "      <td>1.0</td>\n",
       "      <td>0.0</td>\n",
       "      <td>0.0</td>\n",
       "      <td>...</td>\n",
       "      <td>0.0</td>\n",
       "      <td>1.0</td>\n",
       "      <td>0.0</td>\n",
       "      <td>1.0</td>\n",
       "      <td>9.0</td>\n",
       "      <td>2.0</td>\n",
       "      <td>0.0</td>\n",
       "      <td>0.0</td>\n",
       "      <td>11.0</td>\n",
       "      <td>22.0</td>\n",
       "    </tr>\n",
       "    <tr>\n",
       "      <th>26703</th>\n",
       "      <td>1.0</td>\n",
       "      <td>2.0</td>\n",
       "      <td>0.0</td>\n",
       "      <td>1.0</td>\n",
       "      <td>0.0</td>\n",
       "      <td>1.0</td>\n",
       "      <td>0.0</td>\n",
       "      <td>0.0</td>\n",
       "      <td>0.0</td>\n",
       "      <td>1.0</td>\n",
       "      <td>...</td>\n",
       "      <td>0.0</td>\n",
       "      <td>1.0</td>\n",
       "      <td>1.0</td>\n",
       "      <td>0.0</td>\n",
       "      <td>6.0</td>\n",
       "      <td>1.0</td>\n",
       "      <td>1.0</td>\n",
       "      <td>0.0</td>\n",
       "      <td>4.0</td>\n",
       "      <td>2.0</td>\n",
       "    </tr>\n",
       "    <tr>\n",
       "      <th>26704</th>\n",
       "      <td>2.0</td>\n",
       "      <td>2.0</td>\n",
       "      <td>0.0</td>\n",
       "      <td>1.0</td>\n",
       "      <td>1.0</td>\n",
       "      <td>1.0</td>\n",
       "      <td>1.0</td>\n",
       "      <td>0.0</td>\n",
       "      <td>1.0</td>\n",
       "      <td>0.0</td>\n",
       "      <td>...</td>\n",
       "      <td>0.0</td>\n",
       "      <td>1.0</td>\n",
       "      <td>0.0</td>\n",
       "      <td>1.0</td>\n",
       "      <td>6.0</td>\n",
       "      <td>0.0</td>\n",
       "      <td>0.0</td>\n",
       "      <td>0.0</td>\n",
       "      <td>4.0</td>\n",
       "      <td>7.0</td>\n",
       "    </tr>\n",
       "    <tr>\n",
       "      <th>26705</th>\n",
       "      <td>1.0</td>\n",
       "      <td>1.0</td>\n",
       "      <td>0.0</td>\n",
       "      <td>0.0</td>\n",
       "      <td>0.0</td>\n",
       "      <td>0.0</td>\n",
       "      <td>0.0</td>\n",
       "      <td>0.0</td>\n",
       "      <td>0.0</td>\n",
       "      <td>0.0</td>\n",
       "      <td>...</td>\n",
       "      <td>0.0</td>\n",
       "      <td>0.0</td>\n",
       "      <td>1.0</td>\n",
       "      <td>0.0</td>\n",
       "      <td>5.0</td>\n",
       "      <td>2.0</td>\n",
       "      <td>1.0</td>\n",
       "      <td>0.0</td>\n",
       "      <td>4.0</td>\n",
       "      <td>6.0</td>\n",
       "    </tr>\n",
       "    <tr>\n",
       "      <th>26706</th>\n",
       "      <td>0.0</td>\n",
       "      <td>0.0</td>\n",
       "      <td>0.0</td>\n",
       "      <td>1.0</td>\n",
       "      <td>0.0</td>\n",
       "      <td>0.0</td>\n",
       "      <td>0.0</td>\n",
       "      <td>0.0</td>\n",
       "      <td>0.0</td>\n",
       "      <td>0.0</td>\n",
       "      <td>...</td>\n",
       "      <td>0.0</td>\n",
       "      <td>0.0</td>\n",
       "      <td>0.0</td>\n",
       "      <td>1.0</td>\n",
       "      <td>7.0</td>\n",
       "      <td>1.0</td>\n",
       "      <td>1.0</td>\n",
       "      <td>0.0</td>\n",
       "      <td>12.0</td>\n",
       "      <td>18.0</td>\n",
       "    </tr>\n",
       "  </tbody>\n",
       "</table>\n",
       "<p>5 rows × 35 columns</p>\n",
       "</div>"
      ],
      "text/plain": [
       "       h1n1_concern  h1n1_knowledge  behavioral_antiviral_meds  \\\n",
       "26702           2.0             0.0                        0.0   \n",
       "26703           1.0             2.0                        0.0   \n",
       "26704           2.0             2.0                        0.0   \n",
       "26705           1.0             1.0                        0.0   \n",
       "26706           0.0             0.0                        0.0   \n",
       "\n",
       "       behavioral_avoidance  behavioral_face_mask  behavioral_wash_hands  \\\n",
       "26702                   1.0                   0.0                    0.0   \n",
       "26703                   1.0                   0.0                    1.0   \n",
       "26704                   1.0                   1.0                    1.0   \n",
       "26705                   0.0                   0.0                    0.0   \n",
       "26706                   1.0                   0.0                    0.0   \n",
       "\n",
       "       behavioral_large_gatherings  behavioral_outside_home  \\\n",
       "26702                          0.0                      1.0   \n",
       "26703                          0.0                      0.0   \n",
       "26704                          1.0                      0.0   \n",
       "26705                          0.0                      0.0   \n",
       "26706                          0.0                      0.0   \n",
       "\n",
       "       behavioral_touch_face  doctor_recc_h1n1  ...  income_poverty  \\\n",
       "26702                    0.0               0.0  ...             0.0   \n",
       "26703                    0.0               1.0  ...             0.0   \n",
       "26704                    1.0               0.0  ...             0.0   \n",
       "26705                    0.0               0.0  ...             0.0   \n",
       "26706                    0.0               0.0  ...             0.0   \n",
       "\n",
       "       marital_status  rent_or_own  employment_status  hhs_geo_region  \\\n",
       "26702             1.0          0.0                1.0             9.0   \n",
       "26703             1.0          1.0                0.0             6.0   \n",
       "26704             1.0          0.0                1.0             6.0   \n",
       "26705             0.0          1.0                0.0             5.0   \n",
       "26706             0.0          0.0                1.0             7.0   \n",
       "\n",
       "       census_msa  household_adults  household_children  employment_industry  \\\n",
       "26702         2.0               0.0                 0.0                 11.0   \n",
       "26703         1.0               1.0                 0.0                  4.0   \n",
       "26704         0.0               0.0                 0.0                  4.0   \n",
       "26705         2.0               1.0                 0.0                  4.0   \n",
       "26706         1.0               1.0                 0.0                 12.0   \n",
       "\n",
       "       employment_occupation  \n",
       "26702                   22.0  \n",
       "26703                    2.0  \n",
       "26704                    7.0  \n",
       "26705                    6.0  \n",
       "26706                   18.0  \n",
       "\n",
       "[5 rows x 35 columns]"
      ]
     },
     "execution_count": 68,
     "metadata": {},
     "output_type": "execute_result"
    }
   ],
   "source": [
    "vaccinetrain_df.tail()"
   ]
  },
  {
   "cell_type": "code",
   "execution_count": 70,
   "id": "16cb6f31-8ffc-4a40-ac20-1b6ccdb7f673",
   "metadata": {},
   "outputs": [
    {
     "name": "stdout",
     "output_type": "stream",
     "text": [
      "<class 'pandas.core.frame.DataFrame'>\n",
      "RangeIndex: 26707 entries, 0 to 26706\n",
      "Data columns (total 35 columns):\n",
      " #   Column                       Non-Null Count  Dtype  \n",
      "---  ------                       --------------  -----  \n",
      " 0   h1n1_concern                 26707 non-null  float64\n",
      " 1   h1n1_knowledge               26707 non-null  float64\n",
      " 2   behavioral_antiviral_meds    26707 non-null  float64\n",
      " 3   behavioral_avoidance         26707 non-null  float64\n",
      " 4   behavioral_face_mask         26707 non-null  float64\n",
      " 5   behavioral_wash_hands        26707 non-null  float64\n",
      " 6   behavioral_large_gatherings  26707 non-null  float64\n",
      " 7   behavioral_outside_home      26707 non-null  float64\n",
      " 8   behavioral_touch_face        26707 non-null  float64\n",
      " 9   doctor_recc_h1n1             26707 non-null  float64\n",
      " 10  doctor_recc_seasonal         26707 non-null  float64\n",
      " 11  chronic_med_condition        26707 non-null  float64\n",
      " 12  child_under_6_months         26707 non-null  float64\n",
      " 13  health_worker                26707 non-null  float64\n",
      " 14  health_insurance             26707 non-null  float64\n",
      " 15  opinion_h1n1_vacc_effective  26707 non-null  float64\n",
      " 16  opinion_h1n1_risk            26707 non-null  float64\n",
      " 17  opinion_h1n1_sick_from_vacc  26707 non-null  float64\n",
      " 18  opinion_seas_vacc_effective  26707 non-null  float64\n",
      " 19  opinion_seas_risk            26707 non-null  float64\n",
      " 20  opinion_seas_sick_from_vacc  26707 non-null  float64\n",
      " 21  age_group                    26707 non-null  float64\n",
      " 22  education                    26707 non-null  float64\n",
      " 23  race                         26707 non-null  float64\n",
      " 24  sex                          26707 non-null  float64\n",
      " 25  income_poverty               26707 non-null  float64\n",
      " 26  marital_status               26707 non-null  float64\n",
      " 27  rent_or_own                  26707 non-null  float64\n",
      " 28  employment_status            26707 non-null  float64\n",
      " 29  hhs_geo_region               26707 non-null  float64\n",
      " 30  census_msa                   26707 non-null  float64\n",
      " 31  household_adults             26707 non-null  float64\n",
      " 32  household_children           26707 non-null  float64\n",
      " 33  employment_industry          26707 non-null  float64\n",
      " 34  employment_occupation        26707 non-null  float64\n",
      "dtypes: float64(35)\n",
      "memory usage: 7.1 MB\n"
     ]
    }
   ],
   "source": [
    "vaccinetrain_df.info()"
   ]
  },
  {
   "cell_type": "code",
   "execution_count": 72,
   "id": "e3ac5fb2-cf36-4b0c-98b4-3418c570b859",
   "metadata": {},
   "outputs": [
    {
     "data": {
      "text/html": [
       "<div>\n",
       "<style scoped>\n",
       "    .dataframe tbody tr th:only-of-type {\n",
       "        vertical-align: middle;\n",
       "    }\n",
       "\n",
       "    .dataframe tbody tr th {\n",
       "        vertical-align: top;\n",
       "    }\n",
       "\n",
       "    .dataframe thead th {\n",
       "        text-align: right;\n",
       "    }\n",
       "</style>\n",
       "<table border=\"1\" class=\"dataframe\">\n",
       "  <thead>\n",
       "    <tr style=\"text-align: right;\">\n",
       "      <th></th>\n",
       "      <th>h1n1_concern</th>\n",
       "      <th>h1n1_knowledge</th>\n",
       "      <th>behavioral_antiviral_meds</th>\n",
       "      <th>behavioral_avoidance</th>\n",
       "      <th>behavioral_face_mask</th>\n",
       "      <th>behavioral_wash_hands</th>\n",
       "      <th>behavioral_large_gatherings</th>\n",
       "      <th>behavioral_outside_home</th>\n",
       "      <th>behavioral_touch_face</th>\n",
       "      <th>doctor_recc_h1n1</th>\n",
       "      <th>...</th>\n",
       "      <th>income_poverty</th>\n",
       "      <th>marital_status</th>\n",
       "      <th>rent_or_own</th>\n",
       "      <th>employment_status</th>\n",
       "      <th>hhs_geo_region</th>\n",
       "      <th>census_msa</th>\n",
       "      <th>household_adults</th>\n",
       "      <th>household_children</th>\n",
       "      <th>employment_industry</th>\n",
       "      <th>employment_occupation</th>\n",
       "    </tr>\n",
       "  </thead>\n",
       "  <tbody>\n",
       "    <tr>\n",
       "      <th>count</th>\n",
       "      <td>26707.000000</td>\n",
       "      <td>26707.000000</td>\n",
       "      <td>26707.000000</td>\n",
       "      <td>26707.000000</td>\n",
       "      <td>26707.000000</td>\n",
       "      <td>26707.000000</td>\n",
       "      <td>26707.000000</td>\n",
       "      <td>26707.000000</td>\n",
       "      <td>26707.000000</td>\n",
       "      <td>26707.000000</td>\n",
       "      <td>...</td>\n",
       "      <td>26707.000000</td>\n",
       "      <td>26707.000000</td>\n",
       "      <td>26707.000000</td>\n",
       "      <td>26707.000000</td>\n",
       "      <td>26707.000000</td>\n",
       "      <td>26707.000000</td>\n",
       "      <td>26707.000000</td>\n",
       "      <td>26707.000000</td>\n",
       "      <td>26707.000000</td>\n",
       "      <td>26707.000000</td>\n",
       "    </tr>\n",
       "    <tr>\n",
       "      <th>mean</th>\n",
       "      <td>1.618340</td>\n",
       "      <td>1.261542</td>\n",
       "      <td>0.048938</td>\n",
       "      <td>0.725053</td>\n",
       "      <td>0.069046</td>\n",
       "      <td>0.825402</td>\n",
       "      <td>0.359344</td>\n",
       "      <td>0.337589</td>\n",
       "      <td>0.677126</td>\n",
       "      <td>0.222451</td>\n",
       "      <td>...</td>\n",
       "      <td>0.554386</td>\n",
       "      <td>0.465646</td>\n",
       "      <td>0.246752</td>\n",
       "      <td>0.522747</td>\n",
       "      <td>4.829745</td>\n",
       "      <td>0.833489</td>\n",
       "      <td>0.888194</td>\n",
       "      <td>0.538660</td>\n",
       "      <td>10.575505</td>\n",
       "      <td>12.956491</td>\n",
       "    </tr>\n",
       "    <tr>\n",
       "      <th>std</th>\n",
       "      <td>0.911018</td>\n",
       "      <td>0.618862</td>\n",
       "      <td>0.215743</td>\n",
       "      <td>0.446496</td>\n",
       "      <td>0.253536</td>\n",
       "      <td>0.379630</td>\n",
       "      <td>0.479817</td>\n",
       "      <td>0.472897</td>\n",
       "      <td>0.467584</td>\n",
       "      <td>0.415900</td>\n",
       "      <td>...</td>\n",
       "      <td>0.711771</td>\n",
       "      <td>0.498828</td>\n",
       "      <td>0.431129</td>\n",
       "      <td>0.606912</td>\n",
       "      <td>2.805984</td>\n",
       "      <td>0.823313</td>\n",
       "      <td>0.753885</td>\n",
       "      <td>0.930097</td>\n",
       "      <td>7.022576</td>\n",
       "      <td>7.059338</td>\n",
       "    </tr>\n",
       "    <tr>\n",
       "      <th>min</th>\n",
       "      <td>0.000000</td>\n",
       "      <td>0.000000</td>\n",
       "      <td>0.000000</td>\n",
       "      <td>0.000000</td>\n",
       "      <td>0.000000</td>\n",
       "      <td>0.000000</td>\n",
       "      <td>0.000000</td>\n",
       "      <td>0.000000</td>\n",
       "      <td>0.000000</td>\n",
       "      <td>0.000000</td>\n",
       "      <td>...</td>\n",
       "      <td>0.000000</td>\n",
       "      <td>0.000000</td>\n",
       "      <td>0.000000</td>\n",
       "      <td>0.000000</td>\n",
       "      <td>0.000000</td>\n",
       "      <td>0.000000</td>\n",
       "      <td>0.000000</td>\n",
       "      <td>0.000000</td>\n",
       "      <td>0.000000</td>\n",
       "      <td>0.000000</td>\n",
       "    </tr>\n",
       "    <tr>\n",
       "      <th>25%</th>\n",
       "      <td>1.000000</td>\n",
       "      <td>1.000000</td>\n",
       "      <td>0.000000</td>\n",
       "      <td>0.000000</td>\n",
       "      <td>0.000000</td>\n",
       "      <td>1.000000</td>\n",
       "      <td>0.000000</td>\n",
       "      <td>0.000000</td>\n",
       "      <td>0.000000</td>\n",
       "      <td>0.000000</td>\n",
       "      <td>...</td>\n",
       "      <td>0.000000</td>\n",
       "      <td>0.000000</td>\n",
       "      <td>0.000000</td>\n",
       "      <td>0.000000</td>\n",
       "      <td>3.000000</td>\n",
       "      <td>0.000000</td>\n",
       "      <td>0.000000</td>\n",
       "      <td>0.000000</td>\n",
       "      <td>4.000000</td>\n",
       "      <td>7.000000</td>\n",
       "    </tr>\n",
       "    <tr>\n",
       "      <th>50%</th>\n",
       "      <td>2.000000</td>\n",
       "      <td>1.000000</td>\n",
       "      <td>0.000000</td>\n",
       "      <td>1.000000</td>\n",
       "      <td>0.000000</td>\n",
       "      <td>1.000000</td>\n",
       "      <td>0.000000</td>\n",
       "      <td>0.000000</td>\n",
       "      <td>1.000000</td>\n",
       "      <td>0.000000</td>\n",
       "      <td>...</td>\n",
       "      <td>0.000000</td>\n",
       "      <td>0.000000</td>\n",
       "      <td>0.000000</td>\n",
       "      <td>0.000000</td>\n",
       "      <td>5.000000</td>\n",
       "      <td>1.000000</td>\n",
       "      <td>1.000000</td>\n",
       "      <td>0.000000</td>\n",
       "      <td>11.000000</td>\n",
       "      <td>13.000000</td>\n",
       "    </tr>\n",
       "    <tr>\n",
       "      <th>75%</th>\n",
       "      <td>2.000000</td>\n",
       "      <td>2.000000</td>\n",
       "      <td>0.000000</td>\n",
       "      <td>1.000000</td>\n",
       "      <td>0.000000</td>\n",
       "      <td>1.000000</td>\n",
       "      <td>1.000000</td>\n",
       "      <td>1.000000</td>\n",
       "      <td>1.000000</td>\n",
       "      <td>0.000000</td>\n",
       "      <td>...</td>\n",
       "      <td>1.000000</td>\n",
       "      <td>1.000000</td>\n",
       "      <td>0.000000</td>\n",
       "      <td>1.000000</td>\n",
       "      <td>7.000000</td>\n",
       "      <td>2.000000</td>\n",
       "      <td>1.000000</td>\n",
       "      <td>1.000000</td>\n",
       "      <td>18.000000</td>\n",
       "      <td>20.000000</td>\n",
       "    </tr>\n",
       "    <tr>\n",
       "      <th>max</th>\n",
       "      <td>3.000000</td>\n",
       "      <td>2.000000</td>\n",
       "      <td>1.000000</td>\n",
       "      <td>1.000000</td>\n",
       "      <td>1.000000</td>\n",
       "      <td>1.000000</td>\n",
       "      <td>1.000000</td>\n",
       "      <td>1.000000</td>\n",
       "      <td>1.000000</td>\n",
       "      <td>1.000000</td>\n",
       "      <td>...</td>\n",
       "      <td>2.000000</td>\n",
       "      <td>1.000000</td>\n",
       "      <td>1.000000</td>\n",
       "      <td>2.000000</td>\n",
       "      <td>9.000000</td>\n",
       "      <td>2.000000</td>\n",
       "      <td>3.000000</td>\n",
       "      <td>3.000000</td>\n",
       "      <td>21.000000</td>\n",
       "      <td>23.000000</td>\n",
       "    </tr>\n",
       "  </tbody>\n",
       "</table>\n",
       "<p>8 rows × 35 columns</p>\n",
       "</div>"
      ],
      "text/plain": [
       "       h1n1_concern  h1n1_knowledge  behavioral_antiviral_meds  \\\n",
       "count  26707.000000    26707.000000               26707.000000   \n",
       "mean       1.618340        1.261542                   0.048938   \n",
       "std        0.911018        0.618862                   0.215743   \n",
       "min        0.000000        0.000000                   0.000000   \n",
       "25%        1.000000        1.000000                   0.000000   \n",
       "50%        2.000000        1.000000                   0.000000   \n",
       "75%        2.000000        2.000000                   0.000000   \n",
       "max        3.000000        2.000000                   1.000000   \n",
       "\n",
       "       behavioral_avoidance  behavioral_face_mask  behavioral_wash_hands  \\\n",
       "count          26707.000000          26707.000000           26707.000000   \n",
       "mean               0.725053              0.069046               0.825402   \n",
       "std                0.446496              0.253536               0.379630   \n",
       "min                0.000000              0.000000               0.000000   \n",
       "25%                0.000000              0.000000               1.000000   \n",
       "50%                1.000000              0.000000               1.000000   \n",
       "75%                1.000000              0.000000               1.000000   \n",
       "max                1.000000              1.000000               1.000000   \n",
       "\n",
       "       behavioral_large_gatherings  behavioral_outside_home  \\\n",
       "count                 26707.000000             26707.000000   \n",
       "mean                      0.359344                 0.337589   \n",
       "std                       0.479817                 0.472897   \n",
       "min                       0.000000                 0.000000   \n",
       "25%                       0.000000                 0.000000   \n",
       "50%                       0.000000                 0.000000   \n",
       "75%                       1.000000                 1.000000   \n",
       "max                       1.000000                 1.000000   \n",
       "\n",
       "       behavioral_touch_face  doctor_recc_h1n1  ...  income_poverty  \\\n",
       "count           26707.000000      26707.000000  ...    26707.000000   \n",
       "mean                0.677126          0.222451  ...        0.554386   \n",
       "std                 0.467584          0.415900  ...        0.711771   \n",
       "min                 0.000000          0.000000  ...        0.000000   \n",
       "25%                 0.000000          0.000000  ...        0.000000   \n",
       "50%                 1.000000          0.000000  ...        0.000000   \n",
       "75%                 1.000000          0.000000  ...        1.000000   \n",
       "max                 1.000000          1.000000  ...        2.000000   \n",
       "\n",
       "       marital_status   rent_or_own  employment_status  hhs_geo_region  \\\n",
       "count    26707.000000  26707.000000       26707.000000    26707.000000   \n",
       "mean         0.465646      0.246752           0.522747        4.829745   \n",
       "std          0.498828      0.431129           0.606912        2.805984   \n",
       "min          0.000000      0.000000           0.000000        0.000000   \n",
       "25%          0.000000      0.000000           0.000000        3.000000   \n",
       "50%          0.000000      0.000000           0.000000        5.000000   \n",
       "75%          1.000000      0.000000           1.000000        7.000000   \n",
       "max          1.000000      1.000000           2.000000        9.000000   \n",
       "\n",
       "         census_msa  household_adults  household_children  \\\n",
       "count  26707.000000      26707.000000        26707.000000   \n",
       "mean       0.833489          0.888194            0.538660   \n",
       "std        0.823313          0.753885            0.930097   \n",
       "min        0.000000          0.000000            0.000000   \n",
       "25%        0.000000          0.000000            0.000000   \n",
       "50%        1.000000          1.000000            0.000000   \n",
       "75%        2.000000          1.000000            1.000000   \n",
       "max        2.000000          3.000000            3.000000   \n",
       "\n",
       "       employment_industry  employment_occupation  \n",
       "count         26707.000000           26707.000000  \n",
       "mean             10.575505              12.956491  \n",
       "std               7.022576               7.059338  \n",
       "min               0.000000               0.000000  \n",
       "25%               4.000000               7.000000  \n",
       "50%              11.000000              13.000000  \n",
       "75%              18.000000              20.000000  \n",
       "max              21.000000              23.000000  \n",
       "\n",
       "[8 rows x 35 columns]"
      ]
     },
     "execution_count": 72,
     "metadata": {},
     "output_type": "execute_result"
    }
   ],
   "source": [
    "vaccinetrain_df.describe()"
   ]
  },
  {
   "cell_type": "markdown",
   "id": "b34ff317-6f82-4b6b-89f2-8678cac9abeb",
   "metadata": {},
   "source": [
    "# EDA -Exploratory Data Analysis"
   ]
  },
  {
   "cell_type": "code",
   "execution_count": 84,
   "id": "d68dae29-d6f7-4b76-bfdc-621ae600b9d8",
   "metadata": {},
   "outputs": [
    {
     "data": {
      "image/png": "[encoded data removed]",
      "text/plain": [
       "<Figure size 640x480 with 1 Axes>"
      ]
     },
     "metadata": {},
     "output_type": "display_data"
    }
   ],
   "source": [
    "# Pie Diagram - sex\n",
    "vaccinetrain_df.sex.value_counts().plot(kind='pie',autopct='%0.2f%%')\n",
    "plt.show()"
   ]
  },
  {
   "cell_type": "code",
   "execution_count": 82,
   "id": "d47a9bde-794e-495e-a504-6140c060d1fc",
   "metadata": {},
   "outputs": [
    {
     "data": {
      "image/png": "[encoded data removed]",
      "text/plain": [
       "<Figure size 640x480 with 1 Axes>"
      ]
     },
     "metadata": {},
     "output_type": "display_data"
    }
   ],
   "source": [
    "# Pie Diagram - education\n",
    "vaccinetrain_df.education.value_counts().plot(kind='pie',autopct='%0.2f%%')\n",
    "plt.show()\n"
   ]
  },
  {
   "cell_type": "code",
   "execution_count": 86,
   "id": "82cd0c4d-d77b-46b4-8d86-cbb7cc5bd785",
   "metadata": {},
   "outputs": [
    {
     "data": {
      "image/png": "[encoded data removed]",
      "text/plain": [
       "<Figure size 640x480 with 1 Axes>"
      ]
     },
     "metadata": {},
     "output_type": "display_data"
    }
   ],
   "source": [
    "# Pie Diagram - marital_status\n",
    "vaccinetrain_df.marital_status.value_counts().plot(kind='pie',autopct='%0.2f%%')\n",
    "plt.show()"
   ]
  },
  {
   "cell_type": "code",
   "execution_count": 90,
   "id": "c040416b-15ea-4581-9977-a4cecf7c58d2",
   "metadata": {},
   "outputs": [
    {
     "data": {
      "image/png": "[encoded data removed]",
      "text/plain": [
       "<Figure size 640x480 with 1 Axes>"
      ]
     },
     "metadata": {},
     "output_type": "display_data"
    }
   ],
   "source": [
    "# Pie Diagram - health_insurance\n",
    "vaccinetrain_df.health_insurance.value_counts().plot(kind='pie',autopct='%0.2f%%')\n",
    "plt.show()"
   ]
  },
  {
   "cell_type": "code",
   "execution_count": 94,
   "id": "6f655a57-1b3c-469d-a55d-173a72c48a64",
   "metadata": {},
   "outputs": [
    {
     "data": {
      "image/png": "[encoded data removed]",
      "text/plain": [
       "<Figure size 640x480 with 1 Axes>"
      ]
     },
     "metadata": {},
     "output_type": "display_data"
    },
    {
     "data": {
      "image/png": "[encoded data removed]",
      "text/plain": [
       "<Figure size 640x480 with 1 Axes>"
      ]
     },
     "metadata": {},
     "output_type": "display_data"
    }
   ],
   "source": [
    "# Stacked Bar Plot - h1n1_concern & sex \n",
    "ax=pd.crosstab(vaccinetrain_df.h1n1_concern,vaccinetrain_df.sex).plot(kind='bar',stacked=True)\n",
    "for i in ax.containers:\n",
    "    ax.bar_label(i)\n",
    "plt.show()    "
   ]
  },
  {
   "cell_type": "code",
   "execution_count": 96,
   "id": "9f51529e-ad89-4215-85d9-fadbfc72531e",
   "metadata": {},
   "outputs": [
    {
     "data": {
      "image/png": "[encoded data removed]",
      "text/plain": [
       "<Figure size 640x480 with 1 Axes>"
      ]
     },
     "metadata": {},
     "output_type": "display_data"
    }
   ],
   "source": [
    "# Stacked Bar Plot - h1n1_knowledge & race\n",
    "ax=pd.crosstab(vaccinetrain_df.h1n1_knowledge,vaccinetrain_df.race).plot(kind='bar',stacked=True)\n",
    "for i in ax.containers:\n",
    "    ax.bar_label(i)\n",
    "plt.show()    "
   ]
  },
  {
   "cell_type": "code",
   "execution_count": 98,
   "id": "c7217104-9d47-4caa-9bb4-00a809a51399",
   "metadata": {},
   "outputs": [
    {
     "data": {
      "image/png": "[encoded data removed]",
      "text/plain": [
       "<Figure size 2000x500 with 1 Axes>"
      ]
     },
     "metadata": {},
     "output_type": "display_data"
    }
   ],
   "source": [
    "ax=vaccinetest_df.employment_occupation.value_counts(dropna=False).plot(kind='bar',figsize=(20,5))\n",
    "for i in ax.containers:\n",
    "    ax.bar_label(i)\n",
    "plt.show()    "
   ]
  },
  {
   "cell_type": "code",
   "execution_count": 100,
   "id": "a78a3e44-de34-4d12-9c3b-24e91927e20d",
   "metadata": {},
   "outputs": [
    {
     "data": {
      "image/png": "[encoded data removed]",
      "text/plain": [
       "<Figure size 1000x600 with 1 Axes>"
      ]
     },
     "metadata": {},
     "output_type": "display_data"
    }
   ],
   "source": [
    "# Stacked Bar Plot of health_insurance & employment_status\n",
    "ax=pd.crosstab(vaccinetrain_df.health_insurance,vaccinetrain_df.employment_status).plot(kind='bar',stacked=True,figsize=(10,6))\n",
    "for i in ax.containers:\n",
    "    ax.bar_label(i)\n",
    "plt.show()    "
   ]
  },
  {
   "cell_type": "code",
   "execution_count": 102,
   "id": "95d5d6c0-66bf-4a8e-af55-8bf026ac5905",
   "metadata": {},
   "outputs": [
    {
     "data": {
      "image/png": "[encoded data removed]",
      "text/plain": [
       "<Figure size 640x480 with 1 Axes>"
      ]
     },
     "metadata": {},
     "output_type": "display_data"
    }
   ],
   "source": [
    "# Stacked Bar Plot of health_worker & h1n1knowledge\n",
    "ax=pd.crosstab(vaccinetrain_df.health_worker,vaccinetrain_df.h1n1_knowledge).plot(kind='bar',stacked=True)\n",
    "for i in ax.containers:\n",
    "    ax.bar_label(i)\n",
    "plt.show()    "
   ]
  },
  {
   "cell_type": "markdown",
   "id": "2ef4aef9-5009-4f4d-9c8a-99ca519aac12",
   "metadata": {},
   "source": [
    "# Hypothesis Testing"
   ]
  },
  {
   "cell_type": "markdown",
   "id": "462db5d9-1a8f-4aa7-acd3-4ad2517999d7",
   "metadata": {},
   "source": [
    "# Test Null No Association between h1n1_vaccine & h1n1concern"
   ]
  },
  {
   "cell_type": "code",
   "execution_count": 108,
   "id": "6c5b9abf-4a59-4457-9710-7edae24488a2",
   "metadata": {},
   "outputs": [
    {
     "data": {
      "text/html": [
       "<div>\n",
       "<style scoped>\n",
       "    .dataframe tbody tr th:only-of-type {\n",
       "        vertical-align: middle;\n",
       "    }\n",
       "\n",
       "    .dataframe tbody tr th {\n",
       "        vertical-align: top;\n",
       "    }\n",
       "\n",
       "    .dataframe thead th {\n",
       "        text-align: right;\n",
       "    }\n",
       "</style>\n",
       "<table border=\"1\" class=\"dataframe\">\n",
       "  <thead>\n",
       "    <tr style=\"text-align: right;\">\n",
       "      <th>h1n1_concern</th>\n",
       "      <th>0.0</th>\n",
       "      <th>1.0</th>\n",
       "      <th>2.0</th>\n",
       "      <th>3.0</th>\n",
       "    </tr>\n",
       "    <tr>\n",
       "      <th>h1n1_vaccine</th>\n",
       "      <th></th>\n",
       "      <th></th>\n",
       "      <th></th>\n",
       "      <th></th>\n",
       "    </tr>\n",
       "  </thead>\n",
       "  <tbody>\n",
       "    <tr>\n",
       "      <th>0</th>\n",
       "      <td>2863</td>\n",
       "      <td>6773</td>\n",
       "      <td>8123</td>\n",
       "      <td>3274</td>\n",
       "    </tr>\n",
       "    <tr>\n",
       "      <th>1</th>\n",
       "      <td>453</td>\n",
       "      <td>1403</td>\n",
       "      <td>2477</td>\n",
       "      <td>1341</td>\n",
       "    </tr>\n",
       "  </tbody>\n",
       "</table>\n",
       "</div>"
      ],
      "text/plain": [
       "h1n1_concern   0.0   1.0   2.0   3.0\n",
       "h1n1_vaccine                        \n",
       "0             2863  6773  8123  3274\n",
       "1              453  1403  2477  1341"
      ]
     },
     "execution_count": 108,
     "metadata": {},
     "output_type": "execute_result"
    }
   ],
   "source": [
    "pd.crosstab(vaccinelabels.h1n1_vaccine,vaccinetrain_df.h1n1_concern)"
   ]
  },
  {
   "cell_type": "code",
   "execution_count": 110,
   "id": "8564f498-8e39-4308-86db-a9b0896e756f",
   "metadata": {},
   "outputs": [],
   "source": [
    "from scipy.stats import chi2_contingency"
   ]
  },
  {
   "cell_type": "code",
   "execution_count": 112,
   "id": "14c43704-01c0-41f6-a567-f2cd579fe46f",
   "metadata": {},
   "outputs": [
    {
     "data": {
      "text/plain": [
       "Chi2ContingencyResult(statistic=392.4311782375835, pvalue=9.651096841476952e-85, dof=3, expected_freq=array([[2611.50365073, 6438.9788445 , 8347.99116337, 3634.52634141],\n",
       "       [ 704.49634927, 1737.0211555 , 2252.00883663,  980.47365859]]))"
      ]
     },
     "execution_count": 112,
     "metadata": {},
     "output_type": "execute_result"
    }
   ],
   "source": [
    "chi2_contingency(pd.crosstab(vaccinelabels.h1n1_vaccine,vaccinetrain_df.h1n1_concern))\n",
    "# since pvalue=6.630673040490488e-86 is less than 0.05, Reject Null Hypothesis\n",
    "# Null:There is no Association between h1n1_vaccine and h1n1_concern"
   ]
  },
  {
   "cell_type": "markdown",
   "id": "5e86ced8-62bc-43b1-9f7f-f86d89c8a121",
   "metadata": {},
   "source": [
    "# Test Null No Association between h1n1_vaccine & h1n1knowledge"
   ]
  },
  {
   "cell_type": "code",
   "execution_count": 115,
   "id": "5243585d-1e2c-4a5a-9a07-ecf55524da26",
   "metadata": {},
   "outputs": [
    {
     "data": {
      "text/html": [
       "<div>\n",
       "<style scoped>\n",
       "    .dataframe tbody tr th:only-of-type {\n",
       "        vertical-align: middle;\n",
       "    }\n",
       "\n",
       "    .dataframe tbody tr th {\n",
       "        vertical-align: top;\n",
       "    }\n",
       "\n",
       "    .dataframe thead th {\n",
       "        text-align: right;\n",
       "    }\n",
       "</style>\n",
       "<table border=\"1\" class=\"dataframe\">\n",
       "  <thead>\n",
       "    <tr style=\"text-align: right;\">\n",
       "      <th>h1n1_knowledge</th>\n",
       "      <th>0.0</th>\n",
       "      <th>1.0</th>\n",
       "      <th>2.0</th>\n",
       "    </tr>\n",
       "    <tr>\n",
       "      <th>h1n1_vaccine</th>\n",
       "      <th></th>\n",
       "      <th></th>\n",
       "      <th></th>\n",
       "    </tr>\n",
       "  </thead>\n",
       "  <tbody>\n",
       "    <tr>\n",
       "      <th>0</th>\n",
       "      <td>2173</td>\n",
       "      <td>11988</td>\n",
       "      <td>6872</td>\n",
       "    </tr>\n",
       "    <tr>\n",
       "      <th>1</th>\n",
       "      <td>362</td>\n",
       "      <td>2664</td>\n",
       "      <td>2648</td>\n",
       "    </tr>\n",
       "  </tbody>\n",
       "</table>\n",
       "</div>"
      ],
      "text/plain": [
       "h1n1_knowledge   0.0    1.0   2.0\n",
       "h1n1_vaccine                     \n",
       "0               2173  11988  6872\n",
       "1                362   2664  2648"
      ]
     },
     "execution_count": 115,
     "metadata": {},
     "output_type": "execute_result"
    }
   ],
   "source": [
    "pd.crosstab(vaccinelabels.h1n1_vaccine,vaccinetrain_df.h1n1_knowledge)"
   ]
  },
  {
   "cell_type": "code",
   "execution_count": 117,
   "id": "a9ce687b-e319-46de-b2af-96398bfc4dc1",
   "metadata": {},
   "outputs": [
    {
     "data": {
      "text/plain": [
       "Chi2ContingencyResult(statistic=401.27380501246694, pvalue=7.319819558875559e-88, dof=2, expected_freq=array([[ 1996.42996218, 11539.12891751,  7497.44112031],\n",
       "       [  538.57003782,  3112.87108249,  2022.55887969]]))"
      ]
     },
     "execution_count": 117,
     "metadata": {},
     "output_type": "execute_result"
    }
   ],
   "source": [
    "chi2_contingency(pd.crosstab(vaccinelabels.h1n1_vaccine,vaccinetrain_df.h1n1_knowledge))\n",
    "# since pvalue=5.10667650944343e-86 is less than 0.05, Reject Null Hypothesis\n",
    "# Null:There is no Association between h1n1_vaccine and h1n1_knowledge"
   ]
  },
  {
   "cell_type": "markdown",
   "id": "3222f7b3-c60f-48ad-bedc-f29d544518a0",
   "metadata": {},
   "source": [
    "# Test Null No Association between h1n1_vaccine & health_worker"
   ]
  },
  {
   "cell_type": "code",
   "execution_count": 120,
   "id": "8f92dbf5-ffd4-4dfb-95b2-62275da101bd",
   "metadata": {},
   "outputs": [
    {
     "data": {
      "text/html": [
       "<div>\n",
       "<style scoped>\n",
       "    .dataframe tbody tr th:only-of-type {\n",
       "        vertical-align: middle;\n",
       "    }\n",
       "\n",
       "    .dataframe tbody tr th {\n",
       "        vertical-align: top;\n",
       "    }\n",
       "\n",
       "    .dataframe thead th {\n",
       "        text-align: right;\n",
       "    }\n",
       "</style>\n",
       "<table border=\"1\" class=\"dataframe\">\n",
       "  <thead>\n",
       "    <tr style=\"text-align: right;\">\n",
       "      <th>health_worker</th>\n",
       "      <th>0.0</th>\n",
       "      <th>1.0</th>\n",
       "    </tr>\n",
       "    <tr>\n",
       "      <th>h1n1_vaccine</th>\n",
       "      <th></th>\n",
       "      <th></th>\n",
       "    </tr>\n",
       "  </thead>\n",
       "  <tbody>\n",
       "    <tr>\n",
       "      <th>0</th>\n",
       "      <td>19261</td>\n",
       "      <td>1772</td>\n",
       "    </tr>\n",
       "    <tr>\n",
       "      <th>1</th>\n",
       "      <td>4455</td>\n",
       "      <td>1219</td>\n",
       "    </tr>\n",
       "  </tbody>\n",
       "</table>\n",
       "</div>"
      ],
      "text/plain": [
       "health_worker    0.0   1.0\n",
       "h1n1_vaccine              \n",
       "0              19261  1772\n",
       "1               4455  1219"
      ]
     },
     "execution_count": 120,
     "metadata": {},
     "output_type": "execute_result"
    }
   ],
   "source": [
    "pd.crosstab(vaccinelabels.h1n1_vaccine,vaccinetrain_df.health_worker)"
   ]
  },
  {
   "cell_type": "code",
   "execution_count": 122,
   "id": "929face6-0b53-4215-ad84-7dd189acbc86",
   "metadata": {},
   "outputs": [
    {
     "data": {
      "text/plain": [
       "Chi2ContingencyResult(statistic=764.9624840597191, pvalue=2.239036939597326e-168, dof=1, expected_freq=array([[18677.44890853,  2355.55109147],\n",
       "       [ 5038.55109147,   635.44890853]]))"
      ]
     },
     "execution_count": 122,
     "metadata": {},
     "output_type": "execute_result"
    }
   ],
   "source": [
    "chi2_contingency(pd.crosstab(vaccinelabels.h1n1_vaccine,vaccinetrain_df.health_worker))\n",
    "# since pvalue=1.3303119747412174e-158 is less than 0.05, Reject Null Hypothesis\n",
    "# Null:There is no Association between h1n1_vaccine and health_worker"
   ]
  },
  {
   "cell_type": "markdown",
   "id": "a7464657-f521-4aab-b2ec-0c36b0a79e20",
   "metadata": {},
   "source": [
    "# Test Null No Association between h1n1_vaccine & sex"
   ]
  },
  {
   "cell_type": "code",
   "execution_count": 127,
   "id": "c4149a52-7554-448d-93be-458ca3709588",
   "metadata": {},
   "outputs": [
    {
     "data": {
      "text/html": [
       "<div>\n",
       "<style scoped>\n",
       "    .dataframe tbody tr th:only-of-type {\n",
       "        vertical-align: middle;\n",
       "    }\n",
       "\n",
       "    .dataframe tbody tr th {\n",
       "        vertical-align: top;\n",
       "    }\n",
       "\n",
       "    .dataframe thead th {\n",
       "        text-align: right;\n",
       "    }\n",
       "</style>\n",
       "<table border=\"1\" class=\"dataframe\">\n",
       "  <thead>\n",
       "    <tr style=\"text-align: right;\">\n",
       "      <th>sex</th>\n",
       "      <th>0.0</th>\n",
       "      <th>1.0</th>\n",
       "    </tr>\n",
       "    <tr>\n",
       "      <th>h1n1_vaccine</th>\n",
       "      <th></th>\n",
       "      <th></th>\n",
       "    </tr>\n",
       "  </thead>\n",
       "  <tbody>\n",
       "    <tr>\n",
       "      <th>0</th>\n",
       "      <td>12378</td>\n",
       "      <td>8655</td>\n",
       "    </tr>\n",
       "    <tr>\n",
       "      <th>1</th>\n",
       "      <td>3480</td>\n",
       "      <td>2194</td>\n",
       "    </tr>\n",
       "  </tbody>\n",
       "</table>\n",
       "</div>"
      ],
      "text/plain": [
       "sex             0.0   1.0\n",
       "h1n1_vaccine             \n",
       "0             12378  8655\n",
       "1              3480  2194"
      ]
     },
     "execution_count": 127,
     "metadata": {},
     "output_type": "execute_result"
    }
   ],
   "source": [
    "pd.crosstab(vaccinelabels.h1n1_vaccine,vaccinetrain_df.sex)"
   ]
  },
  {
   "cell_type": "code",
   "execution_count": 129,
   "id": "b0c45c59-d8b1-4d62-b150-7d6ec411d9e8",
   "metadata": {},
   "outputs": [
    {
     "data": {
      "text/plain": [
       "Chi2ContingencyResult(statistic=11.309981152455997, pvalue=0.0007709155489949327, dof=1, expected_freq=array([[12488.90979893,  8544.09020107],\n",
       "       [ 3369.09020107,  2304.90979893]]))"
      ]
     },
     "execution_count": 129,
     "metadata": {},
     "output_type": "execute_result"
    }
   ],
   "source": [
    "chi2_contingency(pd.crosstab(vaccinelabels.h1n1_vaccine,vaccinetrain_df.sex))\n",
    "# since pvalue=pvalue=0.0007709155489949327 is less than 0.05, Reject Null Hypothesis\n",
    "# Null: There is no Association between h1n1_vaccine and sex"
   ]
  },
  {
   "cell_type": "markdown",
   "id": "05bb568f-ca6f-4892-bcf9-4bc44746df45",
   "metadata": {},
   "source": [
    "# Test Null No Association between h1n1_vaccine & employment_status"
   ]
  },
  {
   "cell_type": "code",
   "execution_count": 134,
   "id": "4de1b2ee-4e6a-4594-8512-6e7bb097c585",
   "metadata": {},
   "outputs": [
    {
     "data": {
      "text/html": [
       "<div>\n",
       "<style scoped>\n",
       "    .dataframe tbody tr th:only-of-type {\n",
       "        vertical-align: middle;\n",
       "    }\n",
       "\n",
       "    .dataframe tbody tr th {\n",
       "        vertical-align: top;\n",
       "    }\n",
       "\n",
       "    .dataframe thead th {\n",
       "        text-align: right;\n",
       "    }\n",
       "</style>\n",
       "<table border=\"1\" class=\"dataframe\">\n",
       "  <thead>\n",
       "    <tr style=\"text-align: right;\">\n",
       "      <th>employment_status</th>\n",
       "      <th>0.0</th>\n",
       "      <th>1.0</th>\n",
       "      <th>2.0</th>\n",
       "    </tr>\n",
       "    <tr>\n",
       "      <th>h1n1_vaccine</th>\n",
       "      <th></th>\n",
       "      <th></th>\n",
       "      <th></th>\n",
       "    </tr>\n",
       "  </thead>\n",
       "  <tbody>\n",
       "    <tr>\n",
       "      <th>0</th>\n",
       "      <td>11277</td>\n",
       "      <td>8437</td>\n",
       "      <td>1319</td>\n",
       "    </tr>\n",
       "    <tr>\n",
       "      <th>1</th>\n",
       "      <td>3056</td>\n",
       "      <td>2350</td>\n",
       "      <td>268</td>\n",
       "    </tr>\n",
       "  </tbody>\n",
       "</table>\n",
       "</div>"
      ],
      "text/plain": [
       "employment_status    0.0   1.0   2.0\n",
       "h1n1_vaccine                        \n",
       "0                  11277  8437  1319\n",
       "1                   3056  2350   268"
      ]
     },
     "execution_count": 134,
     "metadata": {},
     "output_type": "execute_result"
    }
   ],
   "source": [
    "pd.crosstab(vaccinelabels.h1n1_vaccine,vaccinetrain_df.employment_status)"
   ]
  },
  {
   "cell_type": "code",
   "execution_count": 136,
   "id": "8bddf92a-a75a-490a-a4a2-77d3a9839290",
   "metadata": {},
   "outputs": [
    {
     "data": {
      "text/plain": [
       "Chi2ContingencyResult(statistic=19.945663792060373, pvalue=4.665026752175738e-05, dof=2, expected_freq=array([[11287.90163628,  8495.26232823,  1249.8360355 ],\n",
       "       [ 3045.09836372,  2291.73767177,   337.1639645 ]]))"
      ]
     },
     "execution_count": 136,
     "metadata": {},
     "output_type": "execute_result"
    }
   ],
   "source": [
    "chi2_contingency(pd.crosstab(vaccinelabels.h1n1_vaccine,vaccinetrain_df.employment_status))\n",
    "# since pvalue=2.874594057701793e-06 is less than 0.05, Reject Null Hypothesis\n",
    "# Null: There is no Association in between h1n1_vaccine and employement_status"
   ]
  },
  {
   "cell_type": "markdown",
   "id": "e6ceb4b8-7f5f-4077-82da-fb484d3433b7",
   "metadata": {},
   "source": [
    "# Splitting into Dependent variable(y) and independent variable(X's)"
   ]
  },
  {
   "cell_type": "code",
   "execution_count": 153,
   "id": "e2cab638-e6a6-4450-b6cd-2b89dbd939af",
   "metadata": {},
   "outputs": [],
   "source": [
    "y=vaccinelabels.h1n1_vaccine\n",
    "X=vaccinetrain_df"
   ]
  },
  {
   "cell_type": "code",
   "execution_count": 157,
   "id": "db8dac94-b2a9-4382-af4f-d36be8b0363d",
   "metadata": {},
   "outputs": [
    {
     "data": {
      "image/png": "[encoded data removed]",
      "text/plain": [
       "<Figure size 640x480 with 1 Axes>"
      ]
     },
     "metadata": {},
     "output_type": "display_data"
    }
   ],
   "source": [
    "ax=y.value_counts(dropna=False).plot(kind='bar')\n",
    "for i in ax.containers:\n",
    "    ax.bar_label(i)\n",
    "plt.show()    \n",
    "# imbalance in classes \n",
    "# levels-0- majority class(21033) & 1-minority classes(5674)"
   ]
  },
  {
   "cell_type": "code",
   "execution_count": 143,
   "id": "3d22124d-1093-499e-b7a1-ee0151f60ae1",
   "metadata": {},
   "outputs": [],
   "source": [
    "from sklearn.preprocessing import LabelEncoder"
   ]
  },
  {
   "cell_type": "code",
   "execution_count": 145,
   "id": "770ed2cf-65e2-4a1c-ae78-80a19f0d46e0",
   "metadata": {},
   "outputs": [],
   "source": [
    "y=LabelEncoder().fit_transform(y)"
   ]
  },
  {
   "cell_type": "code",
   "execution_count": 159,
   "id": "f1c8d6b2-c388-49fd-89c4-9c87ef69f7d2",
   "metadata": {},
   "outputs": [
    {
     "data": {
      "text/plain": [
       "<Figure size 1500x3000 with 0 Axes>"
      ]
     },
     "metadata": {},
     "output_type": "display_data"
    },
    {
     "data": {
      "image/png": "[encoded data removed]",
      "text/plain": [
       "<Figure size 640x480 with 3 Axes>"
      ]
     },
     "metadata": {},
     "output_type": "display_data"
    }
   ],
   "source": [
    "plt.figure(figsize=(15,30))\n",
    "fig, ax=plt.subplots(3,1)\n",
    "sns.kdeplot(y,ax=ax[0])\n",
    "sns.histplot(y,ax=ax[1])\n",
    "sns.boxplot(y,orient='h',ax=ax[2])\n",
    "plt.show()"
   ]
  },
  {
   "cell_type": "markdown",
   "id": "a0e1b7a7-a6b9-43cd-9561-7fcdd4c63e95",
   "metadata": {},
   "source": [
    "# Model Building "
   ]
  },
  {
   "cell_type": "markdown",
   "id": "8bccd6b7-ae30-4b2e-8e72-78903205ab91",
   "metadata": {},
   "source": [
    "# Logistic Regression"
   ]
  },
  {
   "cell_type": "code",
   "execution_count": 163,
   "id": "84fa442e-4cf1-43ac-9d62-416c0b761e10",
   "metadata": {},
   "outputs": [],
   "source": [
    "from sklearn.linear_model import LogisticRegression"
   ]
  },
  {
   "cell_type": "code",
   "execution_count": 165,
   "id": "1aae5539-58e8-4b75-9bd7-11997d8aa9d3",
   "metadata": {},
   "outputs": [],
   "source": [
    "logit=LogisticRegression(max_iter=300)"
   ]
  },
  {
   "cell_type": "code",
   "execution_count": 167,
   "id": "cfa9851a-fefd-469a-90b9-0d013d386ee2",
   "metadata": {},
   "outputs": [],
   "source": [
    "logitmodel=logit.fit(X,y)"
   ]
  },
  {
   "cell_type": "code",
   "execution_count": 169,
   "id": "205ad5fd-6ca4-4e6f-ba44-cd686c7ca89f",
   "metadata": {},
   "outputs": [
    {
     "data": {
      "text/plain": [
       "0.8303441045418805"
      ]
     },
     "execution_count": 169,
     "metadata": {},
     "output_type": "execute_result"
    }
   ],
   "source": [
    "logitmodel.score(X,y) # Accuracy"
   ]
  },
  {
   "cell_type": "code",
   "execution_count": 171,
   "id": "05eac122-1040-489c-93ab-27bd054fe63a",
   "metadata": {},
   "outputs": [],
   "source": [
    "logitpredict=logitmodel.predict(X)"
   ]
  },
  {
   "cell_type": "code",
   "execution_count": 173,
   "id": "65b9405a-94f7-4244-a829-66a4ae6db8b9",
   "metadata": {},
   "outputs": [
    {
     "data": {
      "text/html": [
       "<div>\n",
       "<style scoped>\n",
       "    .dataframe tbody tr th:only-of-type {\n",
       "        vertical-align: middle;\n",
       "    }\n",
       "\n",
       "    .dataframe tbody tr th {\n",
       "        vertical-align: top;\n",
       "    }\n",
       "\n",
       "    .dataframe thead th {\n",
       "        text-align: right;\n",
       "    }\n",
       "</style>\n",
       "<table border=\"1\" class=\"dataframe\">\n",
       "  <thead>\n",
       "    <tr style=\"text-align: right;\">\n",
       "      <th>col_0</th>\n",
       "      <th>0</th>\n",
       "      <th>1</th>\n",
       "    </tr>\n",
       "    <tr>\n",
       "      <th>h1n1_vaccine</th>\n",
       "      <th></th>\n",
       "      <th></th>\n",
       "    </tr>\n",
       "  </thead>\n",
       "  <tbody>\n",
       "    <tr>\n",
       "      <th>0</th>\n",
       "      <td>19893</td>\n",
       "      <td>1140</td>\n",
       "    </tr>\n",
       "    <tr>\n",
       "      <th>1</th>\n",
       "      <td>3391</td>\n",
       "      <td>2283</td>\n",
       "    </tr>\n",
       "  </tbody>\n",
       "</table>\n",
       "</div>"
      ],
      "text/plain": [
       "col_0             0     1\n",
       "h1n1_vaccine             \n",
       "0             19893  1140\n",
       "1              3391  2283"
      ]
     },
     "execution_count": 173,
     "metadata": {},
     "output_type": "execute_result"
    }
   ],
   "source": [
    "pd.crosstab(y,logitpredict)"
   ]
  },
  {
   "cell_type": "code",
   "execution_count": 175,
   "id": "fe218654-3930-45c9-851d-b350277153c2",
   "metadata": {},
   "outputs": [],
   "source": [
    "from sklearn.metrics import classification_report,RocCurveDisplay\n",
    "from sklearn.model_selection import cross_val_score"
   ]
  },
  {
   "cell_type": "code",
   "execution_count": 177,
   "id": "cf80fbba-c24b-4cae-a0b1-3d56d3df8fbe",
   "metadata": {},
   "outputs": [
    {
     "name": "stdout",
     "output_type": "stream",
     "text": [
      "              precision    recall  f1-score   support\n",
      "\n",
      "           0       0.85      0.95      0.90     21033\n",
      "           1       0.67      0.40      0.50      5674\n",
      "\n",
      "    accuracy                           0.83     26707\n",
      "   macro avg       0.76      0.67      0.70     26707\n",
      "weighted avg       0.81      0.83      0.81     26707\n",
      "\n"
     ]
    }
   ],
   "source": [
    "print(classification_report(y,logitpredict))\n",
    "# Minority class(1) predictions scores are worst."
   ]
  },
  {
   "cell_type": "code",
   "execution_count": 179,
   "id": "d2a2dde8-3199-4751-b3df-0417cd2d196f",
   "metadata": {},
   "outputs": [
    {
     "data": {
      "text/plain": [
       "array([0.82815425, 0.82515912, 0.83149223, 0.83523685, 0.82681146])"
      ]
     },
     "execution_count": 179,
     "metadata": {},
     "output_type": "execute_result"
    }
   ],
   "source": [
    "cross_val_score(logit,X,y)"
   ]
  },
  {
   "cell_type": "code",
   "execution_count": 181,
   "id": "c65100b5-1c20-4149-b2ce-219c600faed2",
   "metadata": {},
   "outputs": [
    {
     "data": {
      "text/plain": [
       "0.8299326"
      ]
     },
     "execution_count": 181,
     "metadata": {},
     "output_type": "execute_result"
    }
   ],
   "source": [
    "np.mean([0.8257207 , 0.82422314, 0.83486239, 0.83542408, 0.82943269])"
   ]
  },
  {
   "cell_type": "code",
   "execution_count": 187,
   "id": "ac16161d-b8bb-48ee-8b8f-3191e015b268",
   "metadata": {
    "scrolled": true
   },
   "outputs": [
    {
     "data": {
      "image/png": "[encoded data removed]",
      "text/plain": [
       "<Figure size 640x480 with 1 Axes>"
      ]
     },
     "metadata": {},
     "output_type": "display_data"
    },
    {
     "data": {
      "image/png": "[encoded data removed]",
      "text/plain": [
       "<Figure size 640x480 with 1 Axes>"
      ]
     },
     "metadata": {},
     "output_type": "display_data"
    }
   ],
   "source": [
    "RocCurveDisplay.from_predictions(y,logitpredict)\n",
    "plt.show()"
   ]
  },
  {
   "cell_type": "markdown",
   "id": "90c75a81-dec5-4cc4-ae7f-079ae72d6d9b",
   "metadata": {},
   "source": [
    "# To treat with imbalance data we need to install imblearn"
   ]
  },
  {
   "cell_type": "code",
   "execution_count": 190,
   "id": "b26f76ba-0475-4ad4-adad-3e91132acea1",
   "metadata": {},
   "outputs": [],
   "source": [
    "from imblearn.over_sampling import SMOTEN"
   ]
  },
  {
   "cell_type": "code",
   "execution_count": 192,
   "id": "3010c476-c280-4040-9980-e3a9988d2f88",
   "metadata": {},
   "outputs": [],
   "source": [
    "smote=SMOTEN(random_state=42)"
   ]
  },
  {
   "cell_type": "code",
   "execution_count": 194,
   "id": "afebb528-1205-4e3f-8f8d-21cd208ef9d3",
   "metadata": {},
   "outputs": [],
   "source": [
    "X_smote,y_smote=smote.fit_resample(X,y)"
   ]
  },
  {
   "cell_type": "code",
   "execution_count": 195,
   "id": "e9fa5a57-88d0-4aaa-ac9c-baee68bd0d93",
   "metadata": {},
   "outputs": [
    {
     "name": "stdout",
     "output_type": "stream",
     "text": [
      "h1n1_vaccine\n",
      "0               21033\n",
      "1                5674\n",
      "Name: count, dtype: int64\n",
      "h1n1_vaccine\n",
      "0               21033\n",
      "1               21033\n",
      "Name: count, dtype: int64\n"
     ]
    }
   ],
   "source": [
    "# Here we can see the difference between smote and without smote\n",
    "print(pd.DataFrame(y).value_counts())\n",
    "print(pd.DataFrame(y_smote).value_counts())"
   ]
  },
  {
   "cell_type": "markdown",
   "id": "cbbd098e-2eb1-4246-b5cf-e02e93ccba06",
   "metadata": {},
   "source": [
    "# Logistic Regression with Smoten"
   ]
  },
  {
   "cell_type": "code",
   "execution_count": 197,
   "id": "df2fd42d-7b2c-4936-a742-8db530a9de23",
   "metadata": {},
   "outputs": [],
   "source": [
    "logit_smote_model=logit.fit(X_smote,y_smote)"
   ]
  },
  {
   "cell_type": "code",
   "execution_count": 198,
   "id": "d97a68ca-4f61-4542-9521-2aa93f7184e3",
   "metadata": {},
   "outputs": [
    {
     "data": {
      "text/plain": [
       "0.8116055721960729"
      ]
     },
     "execution_count": 198,
     "metadata": {},
     "output_type": "execute_result"
    }
   ],
   "source": [
    "logit_smote_model.score(X_smote,y_smote)"
   ]
  },
  {
   "cell_type": "code",
   "execution_count": 199,
   "id": "665d3e08-1d6d-48c1-b1d2-7a47c70ef075",
   "metadata": {},
   "outputs": [],
   "source": [
    "logit_smote_predict=logit_smote_model.predict(X_smote)"
   ]
  },
  {
   "cell_type": "code",
   "execution_count": 205,
   "id": "6db65e0f-92bd-401d-800a-013516a6131f",
   "metadata": {},
   "outputs": [
    {
     "name": "stdout",
     "output_type": "stream",
     "text": [
      "              precision    recall  f1-score   support\n",
      "\n",
      "           0       0.81      0.82      0.81     21033\n",
      "           1       0.82      0.80      0.81     21033\n",
      "\n",
      "    accuracy                           0.81     42066\n",
      "   macro avg       0.81      0.81      0.81     42066\n",
      "weighted avg       0.81      0.81      0.81     42066\n",
      "\n"
     ]
    }
   ],
   "source": [
    "print(classification_report(y_smote,logit_smote_predict))"
   ]
  },
  {
   "cell_type": "code",
   "execution_count": 207,
   "id": "fc3ac349-5267-4d15-85d9-c401078990fb",
   "metadata": {},
   "outputs": [
    {
     "data": {
      "image/png": "[encoded data removed]",
      "text/plain": [
       "<Figure size 640x480 with 1 Axes>"
      ]
     },
     "metadata": {},
     "output_type": "display_data"
    }
   ],
   "source": [
    "RocCurveDisplay.from_predictions(y_smote,logit_smote_predict)\n",
    "plt.show()"
   ]
  },
  {
   "cell_type": "code",
   "execution_count": 209,
   "id": "c44604e1-13ca-4f30-9b96-ede53fc41442",
   "metadata": {},
   "outputs": [],
   "source": [
    "test_logit=logit_smote_model.predict_proba(vaccinetest_df)"
   ]
  },
  {
   "cell_type": "code",
   "execution_count": 211,
   "id": "534cb9b0-410b-4eb5-9593-202a418981d6",
   "metadata": {},
   "outputs": [],
   "source": [
    "pd.DataFrame(test_logit).to_csv('log_h1n1.csv')"
   ]
  },
  {
   "cell_type": "markdown",
   "id": "98ad47ec-5592-4aeb-8c5a-b3fa35c9d628",
   "metadata": {},
   "source": [
    "# Decission Tree"
   ]
  },
  {
   "cell_type": "code",
   "execution_count": 214,
   "id": "4f0794f5-771e-4c56-b096-6bb4268db29f",
   "metadata": {},
   "outputs": [],
   "source": [
    "from sklearn.tree import DecisionTreeClassifier"
   ]
  },
  {
   "cell_type": "code",
   "execution_count": 216,
   "id": "29ec88f3-9554-4290-9cf5-866e750cec88",
   "metadata": {},
   "outputs": [],
   "source": [
    "tree=DecisionTreeClassifier(max_depth=12)"
   ]
  },
  {
   "cell_type": "code",
   "execution_count": 218,
   "id": "153bffa6-376c-4ccc-9325-02ececf82743",
   "metadata": {},
   "outputs": [],
   "source": [
    "treemodel=tree.fit(X,y)"
   ]
  },
  {
   "cell_type": "code",
   "execution_count": 220,
   "id": "1d84643e-7c51-4355-be44-41a02dd40ea1",
   "metadata": {},
   "outputs": [
    {
     "data": {
      "text/plain": [
       "0.8971430711049537"
      ]
     },
     "execution_count": 220,
     "metadata": {},
     "output_type": "execute_result"
    }
   ],
   "source": [
    "treemodel.score(X,y)"
   ]
  },
  {
   "cell_type": "code",
   "execution_count": 222,
   "id": "17c19fdc-a78b-4b27-96f9-86f537ce7ec4",
   "metadata": {},
   "outputs": [
    {
     "data": {
      "text/plain": [
       "array([0.79408461, 0.79614377, 0.79329714, 0.80715222, 0.79273544])"
      ]
     },
     "execution_count": 222,
     "metadata": {},
     "output_type": "execute_result"
    }
   ],
   "source": [
    "cross_val_score(tree,X,y)"
   ]
  },
  {
   "cell_type": "code",
   "execution_count": 224,
   "id": "08b4e0b4-f2c4-459c-af6b-7aa120fe6e30",
   "metadata": {},
   "outputs": [
    {
     "data": {
      "text/plain": [
       "0.79432399"
      ]
     },
     "execution_count": 224,
     "metadata": {},
     "output_type": "execute_result"
    }
   ],
   "source": [
    "np.mean([0.79333583, 0.78453763, 0.80284591, 0.79966298, 0.7912376 ])"
   ]
  },
  {
   "cell_type": "code",
   "execution_count": 226,
   "id": "317ed136-f98e-460e-bb99-bf7fed7bca5c",
   "metadata": {},
   "outputs": [],
   "source": [
    "treepredict=treemodel.predict(X)"
   ]
  },
  {
   "cell_type": "code",
   "execution_count": 228,
   "id": "378b737d-a235-4c61-82d6-cd6ebeb46d86",
   "metadata": {},
   "outputs": [
    {
     "data": {
      "text/html": [
       "<div>\n",
       "<style scoped>\n",
       "    .dataframe tbody tr th:only-of-type {\n",
       "        vertical-align: middle;\n",
       "    }\n",
       "\n",
       "    .dataframe tbody tr th {\n",
       "        vertical-align: top;\n",
       "    }\n",
       "\n",
       "    .dataframe thead th {\n",
       "        text-align: right;\n",
       "    }\n",
       "</style>\n",
       "<table border=\"1\" class=\"dataframe\">\n",
       "  <thead>\n",
       "    <tr style=\"text-align: right;\">\n",
       "      <th>col_0</th>\n",
       "      <th>0</th>\n",
       "      <th>1</th>\n",
       "    </tr>\n",
       "    <tr>\n",
       "      <th>h1n1_vaccine</th>\n",
       "      <th></th>\n",
       "      <th></th>\n",
       "    </tr>\n",
       "  </thead>\n",
       "  <tbody>\n",
       "    <tr>\n",
       "      <th>0</th>\n",
       "      <td>20299</td>\n",
       "      <td>734</td>\n",
       "    </tr>\n",
       "    <tr>\n",
       "      <th>1</th>\n",
       "      <td>2013</td>\n",
       "      <td>3661</td>\n",
       "    </tr>\n",
       "  </tbody>\n",
       "</table>\n",
       "</div>"
      ],
      "text/plain": [
       "col_0             0     1\n",
       "h1n1_vaccine             \n",
       "0             20299   734\n",
       "1              2013  3661"
      ]
     },
     "execution_count": 228,
     "metadata": {},
     "output_type": "execute_result"
    }
   ],
   "source": [
    "pd.crosstab(y,treepredict)"
   ]
  },
  {
   "cell_type": "code",
   "execution_count": 237,
   "id": "d3090ee5-788e-4c1e-82dc-745f5e816de9",
   "metadata": {},
   "outputs": [
    {
     "name": "stdout",
     "output_type": "stream",
     "text": [
      "              precision    recall  f1-score   support\n",
      "\n",
      "           0       0.91      0.97      0.94     21033\n",
      "           1       0.83      0.65      0.73      5674\n",
      "\n",
      "    accuracy                           0.90     26707\n",
      "   macro avg       0.87      0.81      0.83     26707\n",
      "weighted avg       0.89      0.90      0.89     26707\n",
      "\n"
     ]
    }
   ],
   "source": [
    "print(classification_report(y,treepredict))"
   ]
  },
  {
   "cell_type": "code",
   "execution_count": 239,
   "id": "0b392aa2-4145-4972-963d-64b5af980039",
   "metadata": {},
   "outputs": [
    {
     "data": {
      "image/png": "[encoded data removed]",
      "text/plain": [
       "<Figure size 640x480 with 1 Axes>"
      ]
     },
     "metadata": {},
     "output_type": "display_data"
    }
   ],
   "source": [
    "RocCurveDisplay.from_predictions(y,treepredict)\n",
    "plt.show()"
   ]
  },
  {
   "cell_type": "markdown",
   "id": "8c4d6d01-1aed-492b-b132-99c39b8be21b",
   "metadata": {},
   "source": [
    "# Decision Tree with smoten"
   ]
  },
  {
   "cell_type": "code",
   "execution_count": 242,
   "id": "5db74cbd-cfc8-42ba-b33d-7ee18ee11831",
   "metadata": {},
   "outputs": [],
   "source": [
    "tree_sm=DecisionTreeClassifier(max_depth=8)"
   ]
  },
  {
   "cell_type": "code",
   "execution_count": 244,
   "id": "4bc6a37b-26ff-46ad-b6ae-d66daf705ad1",
   "metadata": {},
   "outputs": [],
   "source": [
    "tree_smote_model=tree_sm.fit(X_smote,y_smote)"
   ]
  },
  {
   "cell_type": "code",
   "execution_count": 246,
   "id": "c4751691-cf8d-4b05-b797-f461cd75ffa7",
   "metadata": {},
   "outputs": [
    {
     "data": {
      "text/plain": [
       "0.8115104835258878"
      ]
     },
     "execution_count": 246,
     "metadata": {},
     "output_type": "execute_result"
    }
   ],
   "source": [
    "tree_smote_model.score(X_smote,y_smote)"
   ]
  },
  {
   "cell_type": "code",
   "execution_count": 248,
   "id": "b3b91137-022e-4d28-8dc6-bb065f6a8eb6",
   "metadata": {},
   "outputs": [
    {
     "data": {
      "text/plain": [
       "array([0.6665082 , 0.77356472, 0.81599905, 0.82919292, 0.82752882])"
      ]
     },
     "execution_count": 248,
     "metadata": {},
     "output_type": "execute_result"
    }
   ],
   "source": [
    "cross_val_score(tree_sm,X_smote,y_smote)"
   ]
  },
  {
   "cell_type": "code",
   "execution_count": 250,
   "id": "d5a50d9e-9505-48cc-a0f2-f7de0240ee69",
   "metadata": {},
   "outputs": [
    {
     "data": {
      "text/plain": [
       "0.783605156"
      ]
     },
     "execution_count": 250,
     "metadata": {},
     "output_type": "execute_result"
    }
   ],
   "source": [
    "np.mean([0.64915617, 0.78545109, 0.8246761 , 0.83549269, 0.82324973])"
   ]
  },
  {
   "cell_type": "code",
   "execution_count": 252,
   "id": "529cc371-6bea-41d1-839f-e735dbe0102a",
   "metadata": {},
   "outputs": [],
   "source": [
    "tree_smote_predict=tree_smote_model.predict(X_smote)"
   ]
  },
  {
   "cell_type": "code",
   "execution_count": 254,
   "id": "a8c09f52-2e24-4737-aecf-3b36c0708371",
   "metadata": {},
   "outputs": [
    {
     "data": {
      "text/html": [
       "<div>\n",
       "<style scoped>\n",
       "    .dataframe tbody tr th:only-of-type {\n",
       "        vertical-align: middle;\n",
       "    }\n",
       "\n",
       "    .dataframe tbody tr th {\n",
       "        vertical-align: top;\n",
       "    }\n",
       "\n",
       "    .dataframe thead th {\n",
       "        text-align: right;\n",
       "    }\n",
       "</style>\n",
       "<table border=\"1\" class=\"dataframe\">\n",
       "  <thead>\n",
       "    <tr style=\"text-align: right;\">\n",
       "      <th>col_0</th>\n",
       "      <th>0</th>\n",
       "      <th>1</th>\n",
       "    </tr>\n",
       "    <tr>\n",
       "      <th>h1n1_vaccine</th>\n",
       "      <th></th>\n",
       "      <th></th>\n",
       "    </tr>\n",
       "  </thead>\n",
       "  <tbody>\n",
       "    <tr>\n",
       "      <th>0</th>\n",
       "      <td>17259</td>\n",
       "      <td>3774</td>\n",
       "    </tr>\n",
       "    <tr>\n",
       "      <th>1</th>\n",
       "      <td>4155</td>\n",
       "      <td>16878</td>\n",
       "    </tr>\n",
       "  </tbody>\n",
       "</table>\n",
       "</div>"
      ],
      "text/plain": [
       "col_0             0      1\n",
       "h1n1_vaccine              \n",
       "0             17259   3774\n",
       "1              4155  16878"
      ]
     },
     "execution_count": 254,
     "metadata": {},
     "output_type": "execute_result"
    }
   ],
   "source": [
    "pd.crosstab(y_smote,tree_smote_predict)"
   ]
  },
  {
   "cell_type": "code",
   "execution_count": 264,
   "id": "7ba7192e-0fc6-4264-92db-252791fd2780",
   "metadata": {},
   "outputs": [
    {
     "name": "stdout",
     "output_type": "stream",
     "text": [
      "              precision    recall  f1-score   support\n",
      "\n",
      "           0       0.81      0.82      0.81     21033\n",
      "           1       0.82      0.80      0.81     21033\n",
      "\n",
      "    accuracy                           0.81     42066\n",
      "   macro avg       0.81      0.81      0.81     42066\n",
      "weighted avg       0.81      0.81      0.81     42066\n",
      "\n"
     ]
    }
   ],
   "source": [
    "print(classification_report(y_smote,tree_smote_predict))"
   ]
  },
  {
   "cell_type": "code",
   "execution_count": 266,
   "id": "5802e17f-66c4-4ff4-87fc-ade438ee0ba4",
   "metadata": {},
   "outputs": [
    {
     "data": {
      "image/png": "[encoded data removed]",
      "text/plain": [
       "<Figure size 640x480 with 1 Axes>"
      ]
     },
     "metadata": {},
     "output_type": "display_data"
    }
   ],
   "source": [
    "RocCurveDisplay.from_predictions(y_smote,tree_smote_predict)\n",
    "plt.show()"
   ]
  },
  {
   "cell_type": "code",
   "execution_count": 268,
   "id": "66c492e0-81a7-469f-9eb2-3c9b478e0f75",
   "metadata": {},
   "outputs": [],
   "source": [
    "test_tree_sm=tree_smote_model.predict_proba(vaccinetest_df)\n"
   ]
  },
  {
   "cell_type": "code",
   "execution_count": 278,
   "id": "7a76a9d0-2254-4ac2-bf5f-f7ea63cf6922",
   "metadata": {},
   "outputs": [],
   "source": [
    "pd.DataFrame(test_tree_sm).to_csv('tree_sm_h1n1.csv')"
   ]
  },
  {
   "cell_type": "markdown",
   "id": "f4899112-aacf-45e4-b5ce-96c39b37a7b7",
   "metadata": {},
   "source": [
    "# Random Forest"
   ]
  },
  {
   "cell_type": "code",
   "execution_count": 280,
   "id": "e9d7fb3e-61be-4047-8a4b-de583e6d0184",
   "metadata": {},
   "outputs": [],
   "source": [
    "from sklearn.ensemble import RandomForestClassifier\n"
   ]
  },
  {
   "cell_type": "code",
   "execution_count": 281,
   "id": "125d9fb2-9032-4ec3-8d58-8a0a43a4a713",
   "metadata": {},
   "outputs": [],
   "source": [
    "RF=RandomForestClassifier(n_estimators=1200,max_depth=8)\n"
   ]
  },
  {
   "cell_type": "code",
   "execution_count": 282,
   "id": "46719c93-43fd-453e-af81-36d3958262dd",
   "metadata": {},
   "outputs": [],
   "source": [
    "RFmodel=RF.fit(X,y)\n"
   ]
  },
  {
   "cell_type": "code",
   "execution_count": 277,
   "id": "a7ff48f8-bc5f-412d-b328-c2a2010cbe9b",
   "metadata": {},
   "outputs": [
    {
     "data": {
      "text/plain": [
       "0.8410529074774403"
      ]
     },
     "execution_count": 277,
     "metadata": {},
     "output_type": "execute_result"
    }
   ],
   "source": [
    "RFmodel.score(X,y)\n"
   ]
  },
  {
   "cell_type": "code",
   "execution_count": 283,
   "id": "f87eba29-2904-464d-b312-71e20bac5d04",
   "metadata": {},
   "outputs": [
    {
     "data": {
      "text/plain": [
       "array([0.82646949, 0.82478472, 0.83149223, 0.82999438, 0.82868377])"
      ]
     },
     "execution_count": 283,
     "metadata": {},
     "output_type": "execute_result"
    }
   ],
   "source": [
    "\n",
    "cross_val_score(RF,X,y)"
   ]
  },
  {
   "cell_type": "code",
   "execution_count": 284,
   "id": "1b9f77c5-2b86-49a4-9326-9d75745be3a1",
   "metadata": {},
   "outputs": [
    {
     "data": {
      "text/plain": [
       "0.8271990280000001"
      ]
     },
     "execution_count": 284,
     "metadata": {},
     "output_type": "execute_result"
    }
   ],
   "source": [
    "np.mean([0.82459753, 0.82534631, 0.83093054, 0.82961992, 0.82550084])"
   ]
  },
  {
   "cell_type": "code",
   "execution_count": 285,
   "id": "ead1c8c9-3cea-4fab-b155-c45ebd4b2955",
   "metadata": {},
   "outputs": [],
   "source": [
    "RFpredict=RFmodel.predict(X)\n"
   ]
  },
  {
   "cell_type": "code",
   "execution_count": 286,
   "id": "2ee98c04-efb1-4110-858c-d9a5ab8499f4",
   "metadata": {},
   "outputs": [
    {
     "data": {
      "text/html": [
       "<div>\n",
       "<style scoped>\n",
       "    .dataframe tbody tr th:only-of-type {\n",
       "        vertical-align: middle;\n",
       "    }\n",
       "\n",
       "    .dataframe tbody tr th {\n",
       "        vertical-align: top;\n",
       "    }\n",
       "\n",
       "    .dataframe thead th {\n",
       "        text-align: right;\n",
       "    }\n",
       "</style>\n",
       "<table border=\"1\" class=\"dataframe\">\n",
       "  <thead>\n",
       "    <tr style=\"text-align: right;\">\n",
       "      <th>col_0</th>\n",
       "      <th>0</th>\n",
       "      <th>1</th>\n",
       "    </tr>\n",
       "    <tr>\n",
       "      <th>h1n1_vaccine</th>\n",
       "      <th></th>\n",
       "      <th></th>\n",
       "    </tr>\n",
       "  </thead>\n",
       "  <tbody>\n",
       "    <tr>\n",
       "      <th>0</th>\n",
       "      <td>20484</td>\n",
       "      <td>549</td>\n",
       "    </tr>\n",
       "    <tr>\n",
       "      <th>1</th>\n",
       "      <td>3690</td>\n",
       "      <td>1984</td>\n",
       "    </tr>\n",
       "  </tbody>\n",
       "</table>\n",
       "</div>"
      ],
      "text/plain": [
       "col_0             0     1\n",
       "h1n1_vaccine             \n",
       "0             20484   549\n",
       "1              3690  1984"
      ]
     },
     "execution_count": 286,
     "metadata": {},
     "output_type": "execute_result"
    }
   ],
   "source": [
    "pd.crosstab(y,RFpredict)"
   ]
  },
  {
   "cell_type": "code",
   "execution_count": 287,
   "id": "8a264432-4c61-4c06-ab4f-8b96e4de5fe2",
   "metadata": {},
   "outputs": [
    {
     "name": "stdout",
     "output_type": "stream",
     "text": [
      "              precision    recall  f1-score   support\n",
      "\n",
      "           0       0.85      0.97      0.91     21033\n",
      "           1       0.78      0.35      0.48      5674\n",
      "\n",
      "    accuracy                           0.84     26707\n",
      "   macro avg       0.82      0.66      0.69     26707\n",
      "weighted avg       0.83      0.84      0.82     26707\n",
      "\n"
     ]
    }
   ],
   "source": [
    "print(classification_report(y,RFpredict))"
   ]
  },
  {
   "cell_type": "code",
   "execution_count": 288,
   "id": "726d1a02-f704-4dd9-95f9-b87d46684fbf",
   "metadata": {},
   "outputs": [
    {
     "data": {
      "image/png": "[encoded data removed]",
      "text/plain": [
       "<Figure size 640x480 with 1 Axes>"
      ]
     },
     "metadata": {},
     "output_type": "display_data"
    }
   ],
   "source": [
    "RocCurveDisplay.from_predictions(y,RFpredict)\n",
    "plt.show()"
   ]
  },
  {
   "cell_type": "markdown",
   "id": "dee0fbc5-a435-43b6-b2bd-bb3750ea70d7",
   "metadata": {},
   "source": [
    "# Random Forest with smoten"
   ]
  },
  {
   "cell_type": "code",
   "execution_count": 295,
   "id": "1af05bc4-a791-46fb-8e66-1c8ae2c861d6",
   "metadata": {},
   "outputs": [],
   "source": [
    "RF_smote=RandomForestClassifier(max_depth=6,n_estimators=1000)\n"
   ]
  },
  {
   "cell_type": "code",
   "execution_count": 296,
   "id": "9a1d9905-9c40-4429-9ae1-b05a2fc469b7",
   "metadata": {},
   "outputs": [],
   "source": [
    "RF_smote_model=RF_smote.fit(X_smote,y_smote)\n"
   ]
  },
  {
   "cell_type": "code",
   "execution_count": 297,
   "id": "841a0cbc-6767-4347-8b56-982ed2a310b5",
   "metadata": {},
   "outputs": [
    {
     "data": {
      "text/plain": [
       "0.8090381781010793"
      ]
     },
     "execution_count": 297,
     "metadata": {},
     "output_type": "execute_result"
    }
   ],
   "source": [
    "RF_smote_model.score(X_smote,y_smote)\n"
   ]
  },
  {
   "cell_type": "code",
   "execution_count": 298,
   "id": "154f37d7-f888-41aa-ac19-227d12f602ae",
   "metadata": {},
   "outputs": [
    {
     "data": {
      "text/plain": [
       "array([0.71238412, 0.79115654, 0.81588019, 0.82943064, 0.82669678])"
      ]
     },
     "execution_count": 298,
     "metadata": {},
     "output_type": "execute_result"
    }
   ],
   "source": [
    "\n",
    "cross_val_score(RF_smote,X_smote,y_smote)"
   ]
  },
  {
   "cell_type": "code",
   "execution_count": 307,
   "id": "690b420b-d433-4716-a8a5-265ce15ebd61",
   "metadata": {},
   "outputs": [
    {
     "data": {
      "text/plain": [
       "0.795490094"
      ]
     },
     "execution_count": 307,
     "metadata": {},
     "output_type": "execute_result"
    }
   ],
   "source": [
    "np.mean([0.70917518, 0.791632  , 0.81599905, 0.83299655, 0.82764769])\n"
   ]
  },
  {
   "cell_type": "code",
   "execution_count": 309,
   "id": "71233be7-9ef5-4c8e-8698-b92743e31d06",
   "metadata": {},
   "outputs": [],
   "source": [
    "\n",
    "RF_smote_predict=RF_smote_model.predict(X_smote)\n"
   ]
  },
  {
   "cell_type": "code",
   "execution_count": 310,
   "id": "71ca1b07-21fd-43e8-9753-56bb2f9b3f08",
   "metadata": {},
   "outputs": [
    {
     "data": {
      "text/html": [
       "<div>\n",
       "<style scoped>\n",
       "    .dataframe tbody tr th:only-of-type {\n",
       "        vertical-align: middle;\n",
       "    }\n",
       "\n",
       "    .dataframe tbody tr th {\n",
       "        vertical-align: top;\n",
       "    }\n",
       "\n",
       "    .dataframe thead th {\n",
       "        text-align: right;\n",
       "    }\n",
       "</style>\n",
       "<table border=\"1\" class=\"dataframe\">\n",
       "  <thead>\n",
       "    <tr style=\"text-align: right;\">\n",
       "      <th>col_0</th>\n",
       "      <th>0</th>\n",
       "      <th>1</th>\n",
       "    </tr>\n",
       "    <tr>\n",
       "      <th>h1n1_vaccine</th>\n",
       "      <th></th>\n",
       "      <th></th>\n",
       "    </tr>\n",
       "  </thead>\n",
       "  <tbody>\n",
       "    <tr>\n",
       "      <th>0</th>\n",
       "      <td>17561</td>\n",
       "      <td>3472</td>\n",
       "    </tr>\n",
       "    <tr>\n",
       "      <th>1</th>\n",
       "      <td>4561</td>\n",
       "      <td>16472</td>\n",
       "    </tr>\n",
       "  </tbody>\n",
       "</table>\n",
       "</div>"
      ],
      "text/plain": [
       "col_0             0      1\n",
       "h1n1_vaccine              \n",
       "0             17561   3472\n",
       "1              4561  16472"
      ]
     },
     "execution_count": 310,
     "metadata": {},
     "output_type": "execute_result"
    }
   ],
   "source": [
    "pd.crosstab(y_smote,RF_smote_predict)"
   ]
  },
  {
   "cell_type": "code",
   "execution_count": 311,
   "id": "b19bdf5c-ca34-4ed5-8ff7-1bfb616051f3",
   "metadata": {},
   "outputs": [
    {
     "name": "stdout",
     "output_type": "stream",
     "text": [
      "              precision    recall  f1-score   support\n",
      "\n",
      "           0       0.79      0.83      0.81     21033\n",
      "           1       0.83      0.78      0.80     21033\n",
      "\n",
      "    accuracy                           0.81     42066\n",
      "   macro avg       0.81      0.81      0.81     42066\n",
      "weighted avg       0.81      0.81      0.81     42066\n",
      "\n"
     ]
    }
   ],
   "source": [
    "print(classification_report(y_smote,RF_smote_predict))"
   ]
  },
  {
   "cell_type": "code",
   "execution_count": 312,
   "id": "22b3c993-8b6f-437d-a093-9c719a11c0b0",
   "metadata": {},
   "outputs": [
    {
     "data": {
      "image/png": "[encoded data removed]",
      "text/plain": [
       "<Figure size 640x480 with 1 Axes>"
      ]
     },
     "metadata": {},
     "output_type": "display_data"
    }
   ],
   "source": [
    "RocCurveDisplay.from_predictions(y_smote,RF_smote_predict)\n",
    "plt.show()"
   ]
  },
  {
   "cell_type": "code",
   "execution_count": 313,
   "id": "f588176b-ce6c-4c26-8629-e7620df970c6",
   "metadata": {},
   "outputs": [],
   "source": [
    "test_RF=RF_smote_model.predict_proba(vaccinetest_df)\n"
   ]
  },
  {
   "cell_type": "code",
   "execution_count": 314,
   "id": "62494224-e880-4301-9d2f-d5c09ce52fcb",
   "metadata": {},
   "outputs": [],
   "source": [
    "pd.DataFrame(test_RF).to_csv('RF_h1n1.csv')"
   ]
  },
  {
   "cell_type": "markdown",
   "id": "83c47307-7896-4444-b535-1fa85f477f3b",
   "metadata": {},
   "source": [
    "# GBM (Gradient Boosting Machine)"
   ]
  },
  {
   "cell_type": "code",
   "execution_count": 324,
   "id": "a999aedf-ff78-4246-9e5f-25fc8c568480",
   "metadata": {},
   "outputs": [],
   "source": [
    "from sklearn.ensemble import GradientBoostingClassifier\n"
   ]
  },
  {
   "cell_type": "code",
   "execution_count": 326,
   "id": "14aa14f0-5cc8-4ebb-9ed7-e08c6c6f4bf5",
   "metadata": {},
   "outputs": [],
   "source": [
    "gbm=GradientBoostingClassifier(n_estimators=1000)\n"
   ]
  },
  {
   "cell_type": "code",
   "execution_count": 328,
   "id": "d082689c-d2b8-4f73-a92b-48e75e263186",
   "metadata": {},
   "outputs": [],
   "source": [
    "gbmmodel=gbm.fit(X,y)\n"
   ]
  },
  {
   "cell_type": "code",
   "execution_count": 329,
   "id": "ae31193d-f14c-4325-88f8-b14d03bc59b9",
   "metadata": {},
   "outputs": [
    {
     "data": {
      "text/plain": [
       "0.8613097689744261"
      ]
     },
     "execution_count": 329,
     "metadata": {},
     "output_type": "execute_result"
    }
   ],
   "source": [
    "gbmmodel.score(X,y)"
   ]
  },
  {
   "cell_type": "code",
   "execution_count": 330,
   "id": "074e26d7-99d4-416a-ab0c-cee0af7eb7ae",
   "metadata": {},
   "outputs": [
    {
     "data": {
      "text/plain": [
       "array([0.83639086, 0.82946462, 0.83093054, 0.83823254, 0.82531361])"
      ]
     },
     "execution_count": 330,
     "metadata": {},
     "output_type": "execute_result"
    }
   ],
   "source": [
    "cross_val_score(gbm,X,y)\n"
   ]
  },
  {
   "cell_type": "code",
   "execution_count": 343,
   "id": "a17f1343-69c1-409a-a0d4-12f3b61cdf06",
   "metadata": {},
   "outputs": [
    {
     "data": {
      "text/plain": [
       "0.832141476"
      ]
     },
     "execution_count": 343,
     "metadata": {},
     "output_type": "execute_result"
    }
   ],
   "source": [
    "np.mean([0.83302134, 0.82890303, 0.83336454, 0.8391687 , 0.82624977])\n"
   ]
  },
  {
   "cell_type": "code",
   "execution_count": 345,
   "id": "098579ab-22ae-4f8a-8036-835e1235289b",
   "metadata": {},
   "outputs": [],
   "source": [
    "\n",
    "gbmpredict=gbmmodel.predict(X)\n"
   ]
  },
  {
   "cell_type": "code",
   "execution_count": 346,
   "id": "678274e3-f2b5-4fc9-bd1f-1f153057d193",
   "metadata": {},
   "outputs": [
    {
     "data": {
      "text/html": [
       "<div>\n",
       "<style scoped>\n",
       "    .dataframe tbody tr th:only-of-type {\n",
       "        vertical-align: middle;\n",
       "    }\n",
       "\n",
       "    .dataframe tbody tr th {\n",
       "        vertical-align: top;\n",
       "    }\n",
       "\n",
       "    .dataframe thead th {\n",
       "        text-align: right;\n",
       "    }\n",
       "</style>\n",
       "<table border=\"1\" class=\"dataframe\">\n",
       "  <thead>\n",
       "    <tr style=\"text-align: right;\">\n",
       "      <th>col_0</th>\n",
       "      <th>0</th>\n",
       "      <th>1</th>\n",
       "    </tr>\n",
       "    <tr>\n",
       "      <th>h1n1_vaccine</th>\n",
       "      <th></th>\n",
       "      <th></th>\n",
       "    </tr>\n",
       "  </thead>\n",
       "  <tbody>\n",
       "    <tr>\n",
       "      <th>0</th>\n",
       "      <td>20047</td>\n",
       "      <td>986</td>\n",
       "    </tr>\n",
       "    <tr>\n",
       "      <th>1</th>\n",
       "      <td>2718</td>\n",
       "      <td>2956</td>\n",
       "    </tr>\n",
       "  </tbody>\n",
       "</table>\n",
       "</div>"
      ],
      "text/plain": [
       "col_0             0     1\n",
       "h1n1_vaccine             \n",
       "0             20047   986\n",
       "1              2718  2956"
      ]
     },
     "execution_count": 346,
     "metadata": {},
     "output_type": "execute_result"
    }
   ],
   "source": [
    "pd.crosstab(y,gbmpredict)"
   ]
  },
  {
   "cell_type": "code",
   "execution_count": 349,
   "id": "c03b5e80-b999-4094-bed3-b9d69f392b88",
   "metadata": {},
   "outputs": [
    {
     "name": "stdout",
     "output_type": "stream",
     "text": [
      "              precision    recall  f1-score   support\n",
      "\n",
      "           0       0.88      0.95      0.92     21033\n",
      "           1       0.75      0.52      0.61      5674\n",
      "\n",
      "    accuracy                           0.86     26707\n",
      "   macro avg       0.82      0.74      0.77     26707\n",
      "weighted avg       0.85      0.86      0.85     26707\n",
      "\n"
     ]
    }
   ],
   "source": [
    "print(classification_report(y,gbmpredict))"
   ]
  },
  {
   "cell_type": "code",
   "execution_count": 351,
   "id": "2be07322-cde6-4b61-8bf6-29a421f46c54",
   "metadata": {},
   "outputs": [
    {
     "data": {
      "image/png": "[encoded data removed]",
      "text/plain": [
       "<Figure size 640x480 with 1 Axes>"
      ]
     },
     "metadata": {},
     "output_type": "display_data"
    }
   ],
   "source": [
    "RocCurveDisplay.from_predictions(y,gbmpredict)\n",
    "plt.show()"
   ]
  },
  {
   "cell_type": "markdown",
   "id": "a65f3b0f-6f5f-4aad-a105-38d7233d4865",
   "metadata": {},
   "source": [
    "# GBM (Gradient Boosting Machine) with Smoten\n"
   ]
  },
  {
   "cell_type": "code",
   "execution_count": 354,
   "id": "6ceef3db-cce7-42e3-8566-c1abf9c998fa",
   "metadata": {},
   "outputs": [],
   "source": [
    "gbm_s=GradientBoostingClassifier(max_depth=2,n_estimators=100)\n"
   ]
  },
  {
   "cell_type": "code",
   "execution_count": 356,
   "id": "d7651f7c-469f-4861-af3e-9997d74a9347",
   "metadata": {},
   "outputs": [],
   "source": [
    "gbm_smote_model=gbm_s.fit(X_smote,y_smote)\n"
   ]
  },
  {
   "cell_type": "code",
   "execution_count": 357,
   "id": "5ba9bd15-31ef-49e5-8413-77524e293c2b",
   "metadata": {},
   "outputs": [
    {
     "data": {
      "text/plain": [
       "0.8201873246802643"
      ]
     },
     "execution_count": 357,
     "metadata": {},
     "output_type": "execute_result"
    }
   ],
   "source": [
    "gbm_smote_model.score(X_smote,y_smote)\n"
   ]
  },
  {
   "cell_type": "code",
   "execution_count": 358,
   "id": "c611d34b-fd8f-41ee-8054-3086b6706585",
   "metadata": {},
   "outputs": [
    {
     "data": {
      "text/plain": [
       "array([0.69491324, 0.80161655, 0.83596814, 0.84868656, 0.84345656])"
      ]
     },
     "execution_count": 358,
     "metadata": {},
     "output_type": "execute_result"
    }
   ],
   "source": [
    "\n",
    "cross_val_score(gbm_s,X_smote,y_smote)\n"
   ]
  },
  {
   "cell_type": "code",
   "execution_count": 361,
   "id": "f0611bac-a88f-4267-96af-b0c6308acf80",
   "metadata": {},
   "outputs": [
    {
     "data": {
      "text/plain": [
       "0.805997984"
      ]
     },
     "execution_count": 361,
     "metadata": {},
     "output_type": "execute_result"
    }
   ],
   "source": [
    "\n",
    "np.mean([0.69479439, 0.80149768, 0.83941519, 0.84844883, 0.84583383])\n",
    "\n"
   ]
  },
  {
   "cell_type": "code",
   "execution_count": 364,
   "id": "282eaa5a-4047-4726-bca1-4e2a626c1865",
   "metadata": {},
   "outputs": [],
   "source": [
    "gbm_smote_predict=gbm_smote_model.predict(X_smote)\n"
   ]
  },
  {
   "cell_type": "code",
   "execution_count": 366,
   "id": "88aa20ef-d88d-46a1-9a32-1f44bcdf258d",
   "metadata": {},
   "outputs": [
    {
     "data": {
      "text/html": [
       "<div>\n",
       "<style scoped>\n",
       "    .dataframe tbody tr th:only-of-type {\n",
       "        vertical-align: middle;\n",
       "    }\n",
       "\n",
       "    .dataframe tbody tr th {\n",
       "        vertical-align: top;\n",
       "    }\n",
       "\n",
       "    .dataframe thead th {\n",
       "        text-align: right;\n",
       "    }\n",
       "</style>\n",
       "<table border=\"1\" class=\"dataframe\">\n",
       "  <thead>\n",
       "    <tr style=\"text-align: right;\">\n",
       "      <th>col_0</th>\n",
       "      <th>0</th>\n",
       "      <th>1</th>\n",
       "    </tr>\n",
       "    <tr>\n",
       "      <th>h1n1_vaccine</th>\n",
       "      <th></th>\n",
       "      <th></th>\n",
       "    </tr>\n",
       "  </thead>\n",
       "  <tbody>\n",
       "    <tr>\n",
       "      <th>0</th>\n",
       "      <td>17463</td>\n",
       "      <td>3570</td>\n",
       "    </tr>\n",
       "    <tr>\n",
       "      <th>1</th>\n",
       "      <td>3994</td>\n",
       "      <td>17039</td>\n",
       "    </tr>\n",
       "  </tbody>\n",
       "</table>\n",
       "</div>"
      ],
      "text/plain": [
       "col_0             0      1\n",
       "h1n1_vaccine              \n",
       "0             17463   3570\n",
       "1              3994  17039"
      ]
     },
     "execution_count": 366,
     "metadata": {},
     "output_type": "execute_result"
    }
   ],
   "source": [
    "pd.crosstab(y_smote,gbm_smote_predict)\n"
   ]
  },
  {
   "cell_type": "code",
   "execution_count": 368,
   "id": "9581dfce-878a-47e4-b86f-a7ac7134fcfc",
   "metadata": {},
   "outputs": [
    {
     "name": "stdout",
     "output_type": "stream",
     "text": [
      "              precision    recall  f1-score   support\n",
      "\n",
      "           0       0.81      0.83      0.82     21033\n",
      "           1       0.83      0.81      0.82     21033\n",
      "\n",
      "    accuracy                           0.82     42066\n",
      "   macro avg       0.82      0.82      0.82     42066\n",
      "weighted avg       0.82      0.82      0.82     42066\n",
      "\n"
     ]
    }
   ],
   "source": [
    "print(classification_report(y_smote,gbm_smote_predict))"
   ]
  },
  {
   "cell_type": "code",
   "execution_count": 370,
   "id": "4a7fcaff-ad05-443c-b9e2-ffe1c3547fe0",
   "metadata": {},
   "outputs": [
    {
     "data": {
      "image/png": "[encoded data removed]",
      "text/plain": [
       "<Figure size 640x480 with 1 Axes>"
      ]
     },
     "metadata": {},
     "output_type": "display_data"
    }
   ],
   "source": [
    "RocCurveDisplay.from_predictions(y_smote,gbm_smote_predict)\n",
    "plt.show()"
   ]
  },
  {
   "cell_type": "code",
   "execution_count": 372,
   "id": "fbcd6057-20ea-45ca-b70d-b0c3a4d18acf",
   "metadata": {},
   "outputs": [],
   "source": [
    "test_gbm=gbm_smote_model.predict_proba(vaccinetest_df)\n"
   ]
  },
  {
   "cell_type": "code",
   "execution_count": 374,
   "id": "b0b94276-2813-4739-930a-53d8d4b1be2d",
   "metadata": {},
   "outputs": [],
   "source": [
    "pd.DataFrame(test_gbm).to_csv('gbm_h1n1.csv')"
   ]
  },
  {
   "cell_type": "markdown",
   "id": "317c8c29-4522-4147-bc32-08d135391421",
   "metadata": {},
   "source": [
    "# KNN (KNearestneighbors)"
   ]
  },
  {
   "cell_type": "code",
   "execution_count": 377,
   "id": "fe6c8726-e65b-4ba9-a7b2-e6ecfc490b58",
   "metadata": {},
   "outputs": [],
   "source": [
    "from sklearn.neighbors import KNeighborsClassifier\n"
   ]
  },
  {
   "cell_type": "code",
   "execution_count": 379,
   "id": "49cb4135-37d2-48b5-b7a6-1b3755ceb523",
   "metadata": {},
   "outputs": [],
   "source": [
    "knc=KNeighborsClassifier()\n"
   ]
  },
  {
   "cell_type": "code",
   "execution_count": 381,
   "id": "9ba13b7f-c542-4dd9-8afc-442aa11874e7",
   "metadata": {},
   "outputs": [],
   "source": [
    "kncmodel=knc.fit(X,y)\n"
   ]
  },
  {
   "cell_type": "code",
   "execution_count": 383,
   "id": "b893a11c-66a1-4f7e-bf38-727c0864d41f",
   "metadata": {},
   "outputs": [
    {
     "data": {
      "text/plain": [
       "0.8462575354775902"
      ]
     },
     "execution_count": 383,
     "metadata": {},
     "output_type": "execute_result"
    }
   ],
   "source": [
    "kncmodel.score(X,y)\n"
   ]
  },
  {
   "cell_type": "code",
   "execution_count": 385,
   "id": "0e1892d0-9c7a-47c0-811b-7d8ced559deb",
   "metadata": {},
   "outputs": [
    {
     "data": {
      "text/plain": [
       "array([0.79782853, 0.79165107, 0.79030144, 0.79629283, 0.7906759 ])"
      ]
     },
     "execution_count": 385,
     "metadata": {},
     "output_type": "execute_result"
    }
   ],
   "source": [
    "\n",
    "cross_val_score(knc,X,y)\n",
    "\n"
   ]
  },
  {
   "cell_type": "code",
   "execution_count": 386,
   "id": "ff9c6e70-5426-4caf-91b8-134a59b77d05",
   "metadata": {},
   "outputs": [
    {
     "data": {
      "text/plain": [
       "0.7929005420000002"
      ]
     },
     "execution_count": 386,
     "metadata": {},
     "output_type": "execute_result"
    }
   ],
   "source": [
    "np.mean([0.79857731, 0.79239985, 0.79236098, 0.7931099 , 0.78805467])"
   ]
  },
  {
   "cell_type": "code",
   "execution_count": 389,
   "id": "d46196c5-2db6-45b1-82fa-cfd4be27332f",
   "metadata": {},
   "outputs": [],
   "source": [
    "kncpredict_X=knc.predict(X)\n"
   ]
  },
  {
   "cell_type": "code",
   "execution_count": 390,
   "id": "e6c115be-fc27-4afc-81f4-dfb1644c83d8",
   "metadata": {},
   "outputs": [
    {
     "data": {
      "text/html": [
       "<div>\n",
       "<style scoped>\n",
       "    .dataframe tbody tr th:only-of-type {\n",
       "        vertical-align: middle;\n",
       "    }\n",
       "\n",
       "    .dataframe tbody tr th {\n",
       "        vertical-align: top;\n",
       "    }\n",
       "\n",
       "    .dataframe thead th {\n",
       "        text-align: right;\n",
       "    }\n",
       "</style>\n",
       "<table border=\"1\" class=\"dataframe\">\n",
       "  <thead>\n",
       "    <tr style=\"text-align: right;\">\n",
       "      <th>col_0</th>\n",
       "      <th>0</th>\n",
       "      <th>1</th>\n",
       "    </tr>\n",
       "    <tr>\n",
       "      <th>h1n1_vaccine</th>\n",
       "      <th></th>\n",
       "      <th></th>\n",
       "    </tr>\n",
       "  </thead>\n",
       "  <tbody>\n",
       "    <tr>\n",
       "      <th>0</th>\n",
       "      <td>20165</td>\n",
       "      <td>868</td>\n",
       "    </tr>\n",
       "    <tr>\n",
       "      <th>1</th>\n",
       "      <td>3238</td>\n",
       "      <td>2436</td>\n",
       "    </tr>\n",
       "  </tbody>\n",
       "</table>\n",
       "</div>"
      ],
      "text/plain": [
       "col_0             0     1\n",
       "h1n1_vaccine             \n",
       "0             20165   868\n",
       "1              3238  2436"
      ]
     },
     "execution_count": 390,
     "metadata": {},
     "output_type": "execute_result"
    }
   ],
   "source": [
    "pd.crosstab(y,kncpredict_X)"
   ]
  },
  {
   "cell_type": "code",
   "execution_count": 393,
   "id": "2bbd6a27-6843-445d-b461-454603263e55",
   "metadata": {},
   "outputs": [
    {
     "name": "stdout",
     "output_type": "stream",
     "text": [
      "              precision    recall  f1-score   support\n",
      "\n",
      "           0       0.86      0.96      0.91     21033\n",
      "           1       0.74      0.43      0.54      5674\n",
      "\n",
      "    accuracy                           0.85     26707\n",
      "   macro avg       0.80      0.69      0.73     26707\n",
      "weighted avg       0.84      0.85      0.83     26707\n",
      "\n"
     ]
    }
   ],
   "source": [
    "print(classification_report(y,kncpredict_X))"
   ]
  },
  {
   "cell_type": "code",
   "execution_count": 395,
   "id": "8dedf0e9-042b-4bd3-9f47-2410abbb5c07",
   "metadata": {},
   "outputs": [
    {
     "data": {
      "image/png": "[encoded data removed]",
      "text/plain": [
       "<Figure size 640x480 with 1 Axes>"
      ]
     },
     "metadata": {},
     "output_type": "display_data"
    }
   ],
   "source": [
    "RocCurveDisplay.from_predictions(y,kncpredict_X)\n",
    "plt.show()"
   ]
  },
  {
   "cell_type": "markdown",
   "id": "d06ae7de-23c3-4186-a898-ad41c941c251",
   "metadata": {},
   "source": [
    "# KNN(KNearestNeighbors) with smoten"
   ]
  },
  {
   "cell_type": "code",
   "execution_count": 398,
   "id": "322583fe-6071-4ffd-9713-4246b7233769",
   "metadata": {},
   "outputs": [],
   "source": [
    "knc_sm=KNeighborsClassifier()\n"
   ]
  },
  {
   "cell_type": "code",
   "execution_count": 400,
   "id": "b0d5a1db-7def-4836-91a5-1f7734ba12f7",
   "metadata": {},
   "outputs": [],
   "source": [
    "kncmodel_sm=knc_sm.fit(X_smote,y_smote)\n"
   ]
  },
  {
   "cell_type": "code",
   "execution_count": 402,
   "id": "6e732589-9a7f-44ec-be5c-2e0be16015e2",
   "metadata": {},
   "outputs": [
    {
     "data": {
      "text/plain": [
       "0.8597917558122949"
      ]
     },
     "execution_count": 402,
     "metadata": {},
     "output_type": "execute_result"
    }
   ],
   "source": [
    "kncmodel_sm.score(X_smote,y_smote)\n",
    "\n"
   ]
  },
  {
   "cell_type": "code",
   "execution_count": 404,
   "id": "24c59f66-fc61-45a4-92bf-8ccd8082b755",
   "metadata": {},
   "outputs": [
    {
     "data": {
      "text/plain": [
       "array([0.67649156, 0.77439677, 0.83418519, 0.83359087, 0.83691905])"
      ]
     },
     "execution_count": 404,
     "metadata": {},
     "output_type": "execute_result"
    }
   ],
   "source": [
    "cross_val_score(knc_sm,X_smote,y_smote)\n"
   ]
  },
  {
   "cell_type": "code",
   "execution_count": 406,
   "id": "53fcebb2-3dd8-40d2-b848-d9ec0213388d",
   "metadata": {},
   "outputs": [
    {
     "data": {
      "text/plain": [
       "0.783058004"
      ]
     },
     "execution_count": 406,
     "metadata": {},
     "output_type": "execute_result"
    }
   ],
   "source": [
    "\n",
    "np.mean([0.66508201, 0.76987995, 0.82812314, 0.82966837, 0.82253655])\n"
   ]
  },
  {
   "cell_type": "code",
   "execution_count": 408,
   "id": "448348db-ccb1-4f6b-a490-41e47f76ce02",
   "metadata": {},
   "outputs": [],
   "source": [
    "\n",
    "knc_predict_X_sm=knc_sm.predict(X_smote)\n"
   ]
  },
  {
   "cell_type": "code",
   "execution_count": 409,
   "id": "b9002bac-122e-4f92-9329-0097d77acec3",
   "metadata": {},
   "outputs": [
    {
     "data": {
      "text/html": [
       "<div>\n",
       "<style scoped>\n",
       "    .dataframe tbody tr th:only-of-type {\n",
       "        vertical-align: middle;\n",
       "    }\n",
       "\n",
       "    .dataframe tbody tr th {\n",
       "        vertical-align: top;\n",
       "    }\n",
       "\n",
       "    .dataframe thead th {\n",
       "        text-align: right;\n",
       "    }\n",
       "</style>\n",
       "<table border=\"1\" class=\"dataframe\">\n",
       "  <thead>\n",
       "    <tr style=\"text-align: right;\">\n",
       "      <th>col_0</th>\n",
       "      <th>0</th>\n",
       "      <th>1</th>\n",
       "    </tr>\n",
       "    <tr>\n",
       "      <th>h1n1_vaccine</th>\n",
       "      <th></th>\n",
       "      <th></th>\n",
       "    </tr>\n",
       "  </thead>\n",
       "  <tbody>\n",
       "    <tr>\n",
       "      <th>0</th>\n",
       "      <td>17179</td>\n",
       "      <td>3854</td>\n",
       "    </tr>\n",
       "    <tr>\n",
       "      <th>1</th>\n",
       "      <td>2044</td>\n",
       "      <td>18989</td>\n",
       "    </tr>\n",
       "  </tbody>\n",
       "</table>\n",
       "</div>"
      ],
      "text/plain": [
       "col_0             0      1\n",
       "h1n1_vaccine              \n",
       "0             17179   3854\n",
       "1              2044  18989"
      ]
     },
     "execution_count": 409,
     "metadata": {},
     "output_type": "execute_result"
    }
   ],
   "source": [
    "pd.crosstab(y_smote,knc_predict_X_sm)"
   ]
  },
  {
   "cell_type": "code",
   "execution_count": 412,
   "id": "c9a0ae04-0df7-4f2d-b58b-a2b380064776",
   "metadata": {},
   "outputs": [
    {
     "name": "stdout",
     "output_type": "stream",
     "text": [
      "              precision    recall  f1-score   support\n",
      "\n",
      "           0       0.89      0.82      0.85     21033\n",
      "           1       0.83      0.90      0.87     21033\n",
      "\n",
      "    accuracy                           0.86     42066\n",
      "   macro avg       0.86      0.86      0.86     42066\n",
      "weighted avg       0.86      0.86      0.86     42066\n",
      "\n"
     ]
    }
   ],
   "source": [
    "print(classification_report(y_smote,knc_predict_X_sm))"
   ]
  },
  {
   "cell_type": "code",
   "execution_count": 414,
   "id": "cd4c71da-08b8-4a3c-93e6-fb445e6d9f42",
   "metadata": {},
   "outputs": [
    {
     "data": {
      "image/png": "[encoded data removed]",
      "text/plain": [
       "<Figure size 640x480 with 1 Axes>"
      ]
     },
     "metadata": {},
     "output_type": "display_data"
    }
   ],
   "source": [
    "RocCurveDisplay.from_predictions(y_smote,knc_predict_X_sm)\n",
    "plt.show()"
   ]
  },
  {
   "cell_type": "code",
   "execution_count": 416,
   "id": "bb564293-0d12-4c12-84c5-44a9b02b1cb0",
   "metadata": {},
   "outputs": [],
   "source": [
    "test_knc=knc_sm.predict_proba(vaccinetest_df)\n"
   ]
  },
  {
   "cell_type": "code",
   "execution_count": 417,
   "id": "5bfecf51-1897-4b71-a3ca-9ab98d24272e",
   "metadata": {},
   "outputs": [],
   "source": []
  },
  {
   "cell_type": "markdown",
   "id": "3e9beef1-8d85-40d2-b2e8-2b3b9f1d3ef4",
   "metadata": {},
   "source": [
    "# Summary "
   ]
  },
  {
   "cell_type": "markdown",
   "id": "24939f3e-a202-4940-96af-10e3bfeded98",
   "metadata": {},
   "source": [
    "Therefore, we can conclude that the gradient boosting machine is the best model for the FLU h1n1_vaccine dataset, as it has the highest ML model score, accuracy score and ROC/AUC curve value among all the models, and it can predict the outcomes of the data with high confidence and precision."
   ]
  },
  {
   "cell_type": "code",
   "execution_count": null,
   "id": "5b575325-2c65-4649-8788-5061a0e8a0c6",
   "metadata": {},
   "outputs": [],
   "source": []
  }
 ],
 "metadata": {
  "kernelspec": {
   "display_name": "Python [conda env:base] *",
   "language": "python",
   "name": "conda-base-py"
  },
  "language_info": {
   "codemirror_mode": {
    "name": "ipython",
    "version": 3
   },
   "file_extension": ".py",
   "mimetype": "text/x-python",
   "name": "python",
   "nbconvert_exporter": "python",
   "pygments_lexer": "ipython3",
   "version": "3.11.7"
  }
 },
 "nbformat": 4,
 "nbformat_minor": 5
}
